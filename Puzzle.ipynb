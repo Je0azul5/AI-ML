{
  "nbformat": 4,
  "nbformat_minor": 0,
  "metadata": {
    "colab": {
      "name": "Puzzle.ipynb",
      "provenance": [],
      "include_colab_link": true
    },
    "kernelspec": {
      "name": "python3",
      "display_name": "Python 3"
    }
  },
  "cells": [
    {
      "cell_type": "markdown",
      "metadata": {
        "id": "view-in-github",
        "colab_type": "text"
      },
      "source": [
        "<a href=\"https://colab.research.google.com/github/Je0azul5/AI-ML/blob/main/Puzzle.ipynb\" target=\"_parent\"><img src=\"https://colab.research.google.com/assets/colab-badge.svg\" alt=\"Open In Colab\"/></a>"
      ]
    },
    {
      "cell_type": "code",
      "metadata": {
        "id": "ocJWmX4SxQ8S"
      },
      "source": [
        "import numpy as np"
      ],
      "execution_count": 4,
      "outputs": []
    },
    {
      "cell_type": "code",
      "metadata": {
        "id": "pvISjA18jRq6"
      },
      "source": [
        "\n",
        "\n",
        "#Agrega las posiciones para tener el puzzle\n",
        "def position(state):\n",
        "   \n",
        "    l = list()\n",
        "    for i in state:\n",
        "        indice = state.index(i)\n",
        "        if indice in (0,1,2):\n",
        "            l.append((i,0,state.index(i)%3))\n",
        "            #print(l[:])\n",
        "        if indice in (3,4,5):\n",
        "            l.append((i,1,state.index(i)%3))\n",
        "            #print(l[:])\n",
        "        if indice in (6,7,8):\n",
        "            l.append((i,2,state.index(i)%3))\n",
        "            #print(l[:])                   \n",
        "    return l\n",
        "    \n"
      ],
      "execution_count": 5,
      "outputs": []
    },
    {
      "cell_type": "code",
      "metadata": {
        "id": "EpH4jnNPxNwf"
      },
      "source": [
        "#Con la posicion inicial se realizan los movimientos necesarios para llegar al estado final \r\n",
        "def puzzle(state):\r\n",
        "    final = (1,2,3,8,0,4,7,6,5)\r\n",
        "    posFinal = position(final)\r\n",
        "    estado_pos = position(state)\r\n",
        "    t = 0\r\n",
        "    l = list()\r\n",
        "    for i in posFinal:\r\n",
        "        for j in range(9):\r\n",
        "            #if estado_pos[j][0] == i[0] and i[0]!=0:\r\n",
        "            if estado_pos[j][0] == i[0] :\r\n",
        "                #print('j0 =>',estado_pos[j][0],' i0=>',i[0])\r\n",
        "                l.append(estado_pos[j][0])\r\n",
        "                t+= abs(i[1]-estado_pos[j][1])\r\n",
        "                t+= abs(i[2]-estado_pos[j][2])\r\n",
        "    #print('moves: ',t)\r\n",
        "    return l\r\n",
        "        "
      ],
      "execution_count": 6,
      "outputs": []
    },
    {
      "cell_type": "code",
      "metadata": {
        "id": "D5EoURDZjURV",
        "colab": {
          "base_uri": "https://localhost:8080/"
        },
        "outputId": "ca75147b-3f60-4841-868d-d5223669278b"
      },
      "source": [
        "#Creacion del txt\n",
        "tx = open(\"Puzzle.txt\",\"w\")\n",
        "tx.write(\"5\\n4\\n0\\n6\\n1\\n8\\n7\\n3\\n2\")\n",
        "tx.close()\n",
        "tx = open(\"Puzzle.txt\",\"r\")\n",
        "inp = []\n",
        "table=np.zeros((3,3))\n",
        "table2=np.zeros((3,3))\n",
        "\n",
        "\n",
        "#llena el arreglo con los datos del txt\n",
        "for i in tx:\n",
        "  inp.append(int(i))\n",
        "\n",
        "#Realiza una copia y lo modifica \n",
        "inp2 = inp.copy()\n",
        "for i in range(3):\n",
        "  for j in range(3):\n",
        "    table[i][j]=inp.pop(0)\n",
        "\n",
        "#Imprime el estado inical\n",
        "print(\"Estado inicial\")\n",
        "print(table)\n",
        "print(' ')\n",
        "\n",
        "#Realiza la funcion puzzle la cual permite hayar el resultado\n",
        "r=puzzle(inp2)\n",
        "\n",
        "for i in range(3):\n",
        "  for j in range(3):\n",
        "    table2[i][j]=r.pop(0)\n",
        "#muestra el resultado final\n",
        "print(\"Estado Final\")\n",
        "print(table2)\n"
      ],
      "execution_count": 7,
      "outputs": [
        {
          "output_type": "stream",
          "text": [
            "Estado inicial\n",
            "[[5. 4. 0.]\n",
            " [6. 1. 8.]\n",
            " [7. 3. 2.]]\n",
            " \n",
            "Estado Final\n",
            "[[1. 2. 3.]\n",
            " [8. 0. 4.]\n",
            " [7. 6. 5.]]\n"
          ],
          "name": "stdout"
        }
      ]
    }
  ]
}