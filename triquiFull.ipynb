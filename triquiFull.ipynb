{
  "nbformat": 4,
  "nbformat_minor": 0,
  "metadata": {
    "colab": {
      "name": "triquiFull.ipynb",
      "provenance": [],
      "collapsed_sections": [],
      "include_colab_link": true
    },
    "kernelspec": {
      "display_name": "Python 3",
      "language": "python",
      "name": "python3"
    },
    "language_info": {
      "codemirror_mode": {
        "name": "ipython",
        "version": 3
      },
      "file_extension": ".py",
      "mimetype": "text/x-python",
      "name": "python",
      "nbconvert_exporter": "python",
      "pygments_lexer": "ipython3",
      "version": "3.6.8"
    }
  },
  "cells": [
    {
      "cell_type": "markdown",
      "metadata": {
        "id": "view-in-github",
        "colab_type": "text"
      },
      "source": [
        "<a href=\"https://colab.research.google.com/github/Je0azul5/IA-ML/blob/main/triquiFull.ipynb\" target=\"_parent\"><img src=\"https://colab.research.google.com/assets/colab-badge.svg\" alt=\"Open In Colab\"/></a>"
      ]
    },
    {
      "cell_type": "markdown",
      "metadata": {
        "id": "kOTJS7GXvnV4"
      },
      "source": [
        "\n",
        "Author:\n",
        "\n",
        "-Jhonatan David Sindicue Alvarado\n",
        "CC:1000330460\n",
        "mail: jhonatan.sindicue@correo.usa.edu.co\n"
      ]
    },
    {
      "cell_type": "markdown",
      "metadata": {
        "id": "e2iXaunVvzb1"
      },
      "source": [
        "Se Realizan las importaciones de las bibliotecas, asimismo se asignan los parametros iniciales de juego "
      ]
    },
    {
      "cell_type": "code",
      "metadata": {
        "id": "mOth2y01tYJR"
      },
      "source": [
        "import copy\n",
        "from copy import deepcopy\n",
        "import math as mt\n",
        "import random as rm\n",
        "import sys \n",
        "HUMANO = -1\n",
        "COMPUTADOR = 1\n",
        "fichas = {HUMANO: \"O\" , COMPUTADOR: \"X\"}\n"
      ],
      "execution_count": 1,
      "outputs": []
    },
    {
      "cell_type": "markdown",
      "metadata": {
        "id": "Y-mJTcaEv4Ee"
      },
      "source": [
        "Se crea la clase estado, la cual recibira como parametro areglo de 3 arreglos en donde se inicializara las nueve posiciones en 0"
      ]
    },
    {
      "cell_type": "code",
      "metadata": {
        "id": "9gUHzN0wh6W8"
      },
      "source": [
        "class Estado(object):\n",
        "  def __init__(self, tablero = [[0,  0, 0], [0,  0, 0], [0,  0, 0]]):\n",
        "    self.tablero = tablero\n",
        "\n",
        "  def __str__(self):\n",
        "    str_tablero = \"\"\n",
        "    for i in range(3):\n",
        "      for j in range(3):\n",
        "        casilla = fichas[self.tablero[i][j]] if self.tablero[i][j] !=0 else  \" \"\n",
        "        str_tablero += casilla\n",
        "        if j<2:\n",
        "          str_tablero += \"│\"\n",
        "    \n",
        "      str_tablero += \"\\n\"\n",
        "      if i<2:\n",
        "        str_tablero += \"─┼─┼─\\n\" \n",
        "\n",
        "    return str_tablero + \"\\n\"\n",
        "\n",
        "  def __repr__(self):\n",
        "    return self.__str__()\n",
        "\n",
        "  \n",
        "\n",
        "  \n",
        "#Normal\n",
        "#e = Estado([[1,  -1, 1], [-1,  1, 1], [1,  -1, -1]])\n",
        "#e = Estado([[0,  0, 1], [0,  -1, -1],[1,  1, 1] ])\n",
        "#Horizontal\n",
        "#e  = Estado([[0,0,0],[0,0,0],[-1, -1 ,-1]])\n",
        "#Vertical\n",
        "#e  = Estado([[-1, 0 ,0],[-1,0,0],[-1,0,0]])\n",
        "#Diagonal Derecha\n",
        "#e  = Estado([[-1, 0 ,0],[0,-1,0],[0,0,-1]])\n",
        "#e= Estado([[-1, 0 ,0],[0,1,0],[0,0,-1]])\n",
        "# Diagonal Izquierda\n",
        "#e= Estado([[0,0,-1],[0,-1,0],[-1, 0 ,0]])\n",
        "#e= Estado([[1,0,0],[1,-1,0],[-1, 0 ,0]])\n",
        "#e = Estado([[-1,  1, -1], [1,  -1, 1],[1,  -1, 1] ])\n",
        "#e  = Estado([[0, 0 ,0],[0,0,0],[0,0,0]])\n"
      ],
      "execution_count": 2,
      "outputs": []
    },
    {
      "cell_type": "markdown",
      "metadata": {
        "id": "iTSQBccHwD9b"
      },
      "source": [
        "Se crea la funcion es_final(e) recibiendo como parametro un estado, en esta funcion se conocera si es estado del tablero es final o no, devolviendo True si hay 3 en linea, o si no hay mas posiciones para jugar"
      ]
    },
    {
      "cell_type": "code",
      "metadata": {
        "id": "zvnWlrxoi309"
      },
      "source": [
        "# debe devolver True o False\n",
        "def es_final(e):\n",
        "  i=0;\n",
        "  empate=0;\n",
        "  diagD=0;\n",
        "  \n",
        "  for i in range(3):\n",
        "    #print(e.tablero[i])\n",
        "    suma=0\n",
        "    vertical=0\n",
        "    #Diagonal Derecha\n",
        "    #print(e.tablero[i][i])\n",
        "    diagD+=e.tablero[i][i]\n",
        "    if diagD == 3 or diagD==-3:\n",
        "      #print('DiagonalD')\n",
        "      return (True, diagD)\n",
        "    \n",
        " \n",
        "    #Horizontales\n",
        "    for j in range(3):\n",
        "      suma+= e.tablero[i][j]\n",
        "      empate+=e.tablero[i][j]\n",
        "      #print('empate?-> ',empate,' posicion ',e.tablero[i][j])\n",
        "      #print(suma)\n",
        "      if suma==3 or suma ==-3:\n",
        "        #print('Horizontal')\n",
        "        return (True,suma)\n",
        "      #print(e.tablero[i][j])\n",
        "      #print('j->',e.tablero[i][j])\n",
        "\n",
        "    #Vertical\n",
        "    suma=0\n",
        "    for j in range(3):\n",
        "      suma+= e.tablero[j][i]\n",
        "      #print('V ',e.tablero[j][i])\n",
        "      if suma==3 or suma ==-3:\n",
        "        #print('Vertical')\n",
        "        return (True,suma)\n",
        "    \n",
        "    \n",
        "  suma=0  \n",
        "  #DiagonalIzq\n",
        "  suma+=e.tablero[0][2]\n",
        "  suma+=e.tablero[1][1]\n",
        "  suma+=e.tablero[2][0]\n",
        "  if suma==3 or suma ==-3:\n",
        "    #print('Invertida')\n",
        "    return (True,suma)\n",
        "  #print(empate)\n",
        "\n",
        "  if empate==1 or empate==-1:\n",
        "    #print('empate')\n",
        "    return (True,empate)  \n",
        "  return (False,empate)\n",
        "  i+=1;\n",
        "#es_final(e)"
      ],
      "execution_count": 3,
      "outputs": []
    },
    {
      "cell_type": "markdown",
      "metadata": {
        "id": "mJB36OP-wamO"
      },
      "source": [
        "La funcion utilidad dara a conocer el coste, retorna -1 si gana el humano, 1 si gana el pc o 0 si hay empate, "
      ]
    },
    {
      "cell_type": "code",
      "metadata": {
        "id": "EP-oubqEkiRN"
      },
      "source": [
        "# debe retornar -1 si gana el humano, 1 si gana el pc o 0 si hay empate\n",
        "def utilidad(e):\n",
        "  a=[es_final(e)[0],es_final(e)[1]]\n",
        "\n",
        "  if not a[0]:\n",
        "    #genera un nuevo estado,\n",
        "\n",
        "    #print(a[0])\n",
        "    return False,0\n",
        "  else:\n",
        "    if a[1]==3:\n",
        "      #print('Gano la maquina')\n",
        "      #print(\"\",end=\"\")\n",
        "       return True,1\n",
        "    if a[1]==-3:\n",
        "       return True,1\n",
        "      #print('Gano el humano')\n",
        "      #print(\"\",end=\"\")\n",
        "       return True,-1\n",
        "    if a[1]==-1 or a[1]==1:\n",
        "      #print('Empate')\n",
        "      #print(\"\",end=\"\")\n",
        "       return True,0 \n",
        "      #raise Exception(e + \" no es estado final\")\n",
        "        # ...\n",
        "\n",
        "\n",
        "#utilidad(e)           \n"
      ],
      "execution_count": 4,
      "outputs": []
    },
    {
      "cell_type": "markdown",
      "metadata": {
        "id": "X06sicd-wmMg"
      },
      "source": [
        "La funcion ganador(e) recibe como parametro un estado, y mostrara en pantalla quien ha ganado, o si hay un empate"
      ]
    },
    {
      "cell_type": "code",
      "metadata": {
        "id": "par9-0jNwm8u"
      },
      "source": [
        "def ganador(e):\n",
        "  a=[es_final(e)[0],es_final(e)[1]]\n",
        "\n",
        "  if a[1]==3:\n",
        "    print('Gano la maquina')\n",
        "\n",
        "  if a[1]==-3:\n",
        "    print('Gano el humano')\n",
        "\n",
        "  if a[1]==-1 or a[1]==1:\n",
        "    print('Empate')"
      ],
      "execution_count": 5,
      "outputs": []
    },
    {
      "cell_type": "markdown",
      "metadata": {
        "id": "DeWMC9dUw1cR"
      },
      "source": [
        "La funcion estadodef generar_estados(estado, jugador) recibe dos parametros, el estado actual, y el jugador en este caso la maquina, retornara un arreglo con los posibles estados para la siguiente jugada "
      ]
    },
    {
      "cell_type": "code",
      "metadata": {
        "id": "gVtmTXaYtYJe"
      },
      "source": [
        "# generar arreglo de estados siguientes para el estado actual según el jugador\n",
        "def generar_estados(estado, jugador):\n",
        "  nuevos = []\n",
        "  \n",
        "  for i in range(3):\n",
        "\n",
        "    for j in range(3):\n",
        "      var=estado.tablero[i][j] \n",
        "      if var == 0:\n",
        "        copy_estado=copy.deepcopy(estado.tablero)\n",
        "        copy_estado[i][j]=1\n",
        "        #print(copy_estado)\n",
        "        nuevos.append(Estado(copy_estado))\n",
        "\n",
        "\n",
        "  return nuevos\n",
        "\n",
        "#e = Estado()\n",
        "#e  = Estado([[0, 0 ,0],[0,0,0],[0,0,0]]) \n",
        "#[x for x in generar_estados(e, jugador=COMPUTADOR)]\n",
        "  \n",
        "\n",
        "#print(generar_estados(e,COMPUTADOR))\n",
        "#for i in (generar_estados(e,COMPUTADOR)):\n",
        "  #print(i)\n"
      ],
      "execution_count": 6,
      "outputs": []
    },
    {
      "cell_type": "markdown",
      "metadata": {
        "id": "ySp1GhykxLPC"
      },
      "source": [
        "la funcion fmax(estado) recibe un parametro estado la cual indicara cual es al maximo minimo"
      ]
    },
    {
      "cell_type": "code",
      "metadata": {
        "id": "ZIps92LTlUSl"
      },
      "source": [
        "def fmax(estado):\n",
        "  return fmaxx(estado,valor=-1000)\n",
        "def fmaxx(estado,valor):\n",
        "  i=0\n",
        "\n",
        "  #print(not es_final(estado))\n",
        "  if es_final(estado):\n",
        "    #print('valor max uti',valor)\n",
        "    return utilidad(estado)[1]+1*rm.randrange(1,100);\n",
        "    # para cada estado siguiente:\n",
        "  for n in generar_estados(estado,COMPUTADOR):\n",
        "    \n",
        "    valor = max(valor, fminn(n,valor))\n",
        "    #print('formax',valor)\n",
        "  \n",
        "  #print(valor,'valor min')\n",
        "  return valor\n",
        "#print(fmax(e))\n"
      ],
      "execution_count": 7,
      "outputs": []
    },
    {
      "cell_type": "markdown",
      "metadata": {
        "id": "lCsl9fslxU8z"
      },
      "source": [
        "la funcion fmin(estado) recibe un parametro estado la cual indicara cual es al minimo maximo"
      ]
    },
    {
      "cell_type": "code",
      "metadata": {
        "id": "LL-Csp_XtYJj"
      },
      "source": [
        "def fmin(estado):\n",
        "  return fminm(estado,valor=-1000)\n",
        "\n",
        "def fminm(estado,valor):\n",
        "  i=0\n",
        "  \n",
        "  #print( es_final(estado))\n",
        "  if es_final(estado):\n",
        "    #print('valor min uti',valor)\n",
        "    return utilidad(estado)[1]+1*rm.randrange(1,100);\n",
        "    # para cada estado siguiente:\n",
        "  for n in generar_estados(estado,COMPUTADOR):\n",
        "    valor = min(valor, fmaxx(n,valor))\n",
        "    print('formin',valor)\n",
        "  \n",
        "\n",
        "  return valor\n"
      ],
      "execution_count": 8,
      "outputs": []
    },
    {
      "cell_type": "markdown",
      "metadata": {
        "id": "CrPd22z_xZIl"
      },
      "source": [
        "la funcion decision_minimax(estado) retornara el mejor estado posible"
      ]
    },
    {
      "cell_type": "code",
      "metadata": {
        "id": "ajknuIiWtYJl"
      },
      "source": [
        "def decision_minimax(estado):\n",
        "  mejor_jugada = None\n",
        "\n",
        "  valor = -1000\n",
        "  for e in generar_estados(estado, jugador=COMPUTADOR):\n",
        "    #print(e.tablero)\n",
        "    maximo = fmin(estado)\n",
        "    #print(maximo,'maximo')\n",
        "    #print(maximo > valor)\n",
        "    if  maximo > valor:\n",
        "      valor = maximo\n",
        "      #print('Valor',valor)\n",
        "      #print(e)\n",
        "      mejor_jugada = e\n",
        "  return mejor_jugada\n",
        "\n",
        "#print(decision_minimax(e))\n"
      ],
      "execution_count": 9,
      "outputs": []
    },
    {
      "cell_type": "markdown",
      "metadata": {
        "id": "3idzJbzqx33w"
      },
      "source": [
        "Se muestra la ejecucion del codigo"
      ]
    },
    {
      "cell_type": "code",
      "metadata": {
        "id": "ZABs70vqtYJn",
        "colab": {
          "base_uri": "https://localhost:8080/"
        },
        "outputId": "5b82488e-b7b6-4c20-f7f5-1bdf52deed8e"
      },
      "source": [
        "actual = Estado([[0,  0, 0], [0, 0,  0], [0,  0, 0]])\n",
        "#siguiente_movimiento, valor = decision_minimax(actual)\n",
        "print(actual)\n",
        "i=0\n",
        "while(True):\n",
        "  x=input('Digite posision x del tablero: ')\n",
        "  y=input('Digite posision y del tablero: ')\n",
        "\n",
        "  actual.tablero[int(y)][int(x)]=-1\n",
        "  #print('actualbf',actual)\n",
        "  if i==4:\n",
        "    ganador(actual)\n",
        "    print(actual)\n",
        "    break;\n",
        "  else:\n",
        "    if i==3 and es_final(actual)[0]:\n",
        "      ganador(actual)\n",
        "      print(actual)\n",
        "      break \n",
        "    #print(utilidad(actual)[0])\n",
        "  actual=decision_minimax(actual)\n",
        "  \n",
        "  #print('actual',actual)\n",
        "\n",
        "  if i>0:\n",
        "    #print('kk',actual)\n",
        "    #print(utilidad(actual)[0])\n",
        "\n",
        "    if utilidad(actual)[0]:\n",
        "      ganador(actual)\n",
        "      print(actual)\n",
        "      break;\n",
        "    else:\n",
        "      print(actual)\n",
        "  else:\n",
        "    print(actual)\n",
        "  i+=1\n",
        "  \n",
        "#print(actual)\n",
        "\n",
        "#print(siguiente_movimiento)\n",
        "#print(valor)\n"
      ],
      "execution_count": 10,
      "outputs": [
        {
          "output_type": "stream",
          "text": [
            " │ │ \n",
            "─┼─┼─\n",
            " │ │ \n",
            "─┼─┼─\n",
            " │ │ \n",
            "\n",
            "\n",
            "Digite posision x del tablero: 1\n",
            "Digite posision y del tablero: 1\n",
            " │ │ \n",
            "─┼─┼─\n",
            " │O│ \n",
            "─┼─┼─\n",
            " │ │X\n",
            "\n",
            "\n",
            "Digite posision x del tablero: 0\n",
            "Digite posision y del tablero: 0\n",
            "O│ │X\n",
            "─┼─┼─\n",
            " │O│ \n",
            "─┼─┼─\n",
            " │ │X\n",
            "\n",
            "\n",
            "Digite posision x del tablero: 2\n",
            "Digite posision y del tablero: 1\n",
            "O│ │X\n",
            "─┼─┼─\n",
            " │O│O\n",
            "─┼─┼─\n",
            "X│ │X\n",
            "\n",
            "\n",
            "Digite posision x del tablero: 0\n",
            "Digite posision y del tablero: 1\n",
            "Gano el humano\n",
            "O│ │X\n",
            "─┼─┼─\n",
            "O│O│O\n",
            "─┼─┼─\n",
            "X│ │X\n",
            "\n",
            "\n"
          ],
          "name": "stdout"
        }
      ]
    }
  ]
}