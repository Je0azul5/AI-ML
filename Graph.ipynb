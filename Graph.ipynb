{
  "nbformat": 4,
  "nbformat_minor": 0,
  "metadata": {
    "colab": {
      "name": "Graph.ipynb",
      "provenance": [],
      "collapsed_sections": [],
      "include_colab_link": true
    },
    "kernelspec": {
      "name": "python3",
      "display_name": "Python 3"
    }
  },
  "cells": [
    {
      "cell_type": "markdown",
      "metadata": {
        "id": "view-in-github",
        "colab_type": "text"
      },
      "source": [
        "<a href=\"https://colab.research.google.com/github/Je0azul5/AI-ML/blob/main/Graph.ipynb\" target=\"_parent\"><img src=\"https://colab.research.google.com/assets/colab-badge.svg\" alt=\"Open In Colab\"/></a>"
      ]
    },
    {
      "cell_type": "code",
      "metadata": {
        "id": "b93jRcs1xiRB"
      },
      "source": [
        "import math\r\n",
        "from collections import deque"
      ],
      "execution_count": 1,
      "outputs": []
    },
    {
      "cell_type": "code",
      "metadata": {
        "id": "a7udCZw2VGw3"
      },
      "source": [
        "class Graph():\n",
        "\n",
        "    class Node():\n",
        "      def __init__(self,n,d):\n",
        "        self.diGraph=d \n",
        "        self.maxVertex=n\n",
        "        self.listady=[]\n",
        "\n",
        "\n",
        "    def __init__(self):\n",
        "        self.vertex = []\n",
        "        self.nodo = [[None]*0 for i in range(0)]\n",
        "\n",
        "    #Metodo print, la cual permite imprimir la matriz\n",
        "    def print(self, m, text):\n",
        "        chain = \"\"\n",
        "\n",
        "        for c in range(len(m)):\n",
        "            chain += \"\\t\" + str(self.vertex[c])\n",
        "\n",
        "        chain += \"\\n \" + (\"       -\" * len(m))\n",
        "\n",
        "        for f in range(len(m)):\n",
        "            chain += \"\\n\" + str(self.vertex[f]) + \" |\"\n",
        "            for c in range(len(m)):\n",
        "                if text:\n",
        "                    chain += \"\\t\" + str(m[f][c])\n",
        "                else:\n",
        "                    if f == c and (m[f][c] is None or m[f][c] == 0):\n",
        "                        chain += \"\\t\" + \"\\\\\"\n",
        "                    else:\n",
        "                        if m[f][c] is None or math.isinf(m[f][c]):\n",
        "                            chain += \"\\t\" + \"X\"\n",
        "                        else:\n",
        "                            chain += \"\\t\" + str(m[f][c])\n",
        "\n",
        "        chain += \"\\n\"\n",
        "        print(chain)\n",
        "\n",
        "    @staticmethod\n",
        "    def inContent(list, k):\n",
        "        if list.count(k) == 0:\n",
        "            return False\n",
        "        return True\n",
        "    \n",
        "    #metodo inVertice, permite saber en que vertice se encuentra\n",
        "    def inVertice(self, v):\n",
        "        if self.vertex.count(v) == 0:\n",
        "            return False\n",
        "        return True\n",
        "\n",
        "    #metodo addVertice, permite añadir vertice\n",
        "    def addVertice(self, v):\n",
        "        if self.inVertice(v):\n",
        "            return False\n",
        "        self.vertex.append(v)\n",
        "        row = cols = len(self.nodo)\n",
        "        matrix_aux = [[None] * (row+1) for i in range(cols+1)]\n",
        "\n",
        "\n",
        "        for f in range(row):\n",
        "            for c in range(cols):\n",
        "                matrix_aux[f][c] = self.nodo[f][c]\n",
        "        self.nodo = matrix_aux\n",
        "        return True\n",
        "\n",
        "    #metodo addEdge, se utiliza ppara añadir nodos\n",
        "    def addEdge(self, start, end, valor, aimed):\n",
        "        if not(self.inVertice(start)) or not(self.inVertice(end)):\n",
        "            return False\n",
        "        self.nodo[self.vertex.index(start)][self.vertex.index(end)] = valor\n",
        "        if not aimed:\n",
        "            self.nodo[self.vertex.index(end)][self.vertex.index(start)] = valor\n",
        "        return True\n",
        "\n",
        "    #metodo nextVertice, permite pasar al siguiente vertice de la lista \n",
        "    def nextVertice(self, v):\n",
        "        pos = self.vertex.index(v)\n",
        "        nextList = []\n",
        "        for i in range(len(self.nodo)):\n",
        "            if self.nodo[pos][i] is not None:\n",
        "                nextList.append(self.vertex[i])\n",
        "        return nextList\n",
        "\n",
        "    #metodo rout, muestra la ruta \n",
        "    def rout(self, k, v2):\n",
        "        return self.__rout(k, v2, [])\n",
        "    \n",
        "    #metodo __rout, Se uiliza para recorrer los nodos y los marca como visitados\n",
        "    #si fueron recorridos\n",
        "    def __rout(self, k, v2, visit):\n",
        "        if k == v2:\n",
        "            return visit\n",
        "        visit.append(k)\n",
        "        next = self.nextVertice(k)\n",
        "        for vertice in next:\n",
        "            if not self.inContent(visit, vertice):\n",
        "                if self.__rout(vertice, v2, visit):\n",
        "                    print(vertice,end=' ')\n",
        "                    return True\n",
        "        return False\n",
        "\n",
        "    #Metodo width, busqueda en anchura\n",
        "    def width(self, inicio):\n",
        "        if not self.inVertice(inicio):\n",
        "            return None\n",
        "\n",
        "        travel = []\n",
        "        dque = deque([inicio])\n",
        "\n",
        "        while len(dque) > 0:\n",
        "            vaux = dque.popleft()\n",
        "            travel.append(vaux)\n",
        "\n",
        "            for i in range(len(self.nodo)):\n",
        "                if self.nodo[self.vertex.index(vaux)][i] is not None:\n",
        "                    candidate = self.vertex[i]\n",
        "                    if not self.inContent(travel, candidate) and not self.inContent(dque, candidate):\n",
        "                        dque.append(candidate)\n",
        "\n",
        "        return travel\n",
        "    #metodo depth, busqueda en profundidad\n",
        "    def depth(self, inicio):\n",
        "        if not self.inVertice(inicio):\n",
        "            return None\n",
        "\n",
        "        recorrido = []\n",
        "        pila = [inicio]\n",
        "\n",
        "        while len(pila) > 0:\n",
        "            v_aux = pila.pop()\n",
        "\n",
        "            if not self.inContent(recorrido, v_aux):\n",
        "                recorrido.append(v_aux)\n",
        "\n",
        "            condicion = True\n",
        "\n",
        "            for i in range(len(self.nodo)):\n",
        "                if self.nodo[self.vertex.index(v_aux)][i] is not None:\n",
        "                    v_candidato = self.vertex[i]\n",
        "\n",
        "                    # al parecer se puede reemplazar por \"and not self.contenido_en(pila, v_candidato)\n",
        "                    if not self.inContent(recorrido, v_candidato) and condicion:\n",
        "                        # Es como un Break.\n",
        "                        condicion = False\n",
        "\n",
        "                        pila.append(v_aux)\n",
        "                        pila.append(v_candidato)\n",
        "\n",
        "        return recorrido"
      ],
      "execution_count": 2,
      "outputs": []
    },
    {
      "cell_type": "code",
      "metadata": {
        "id": "WEP7tHcfVNf1",
        "colab": {
          "base_uri": "https://localhost:8080/"
        },
        "outputId": "aad5d7f9-bb2d-41e9-ea94-990399e02091"
      },
      "source": [
        "# No dirigido.\n",
        "#Creacion del grafo\n",
        "g = Graph()\n",
        "\n",
        "#añadir vertices\n",
        "g.addVertice(\"A\")\n",
        "g.addVertice(\"B\")\n",
        "g.addVertice(\"C\")\n",
        "g.addVertice(\"D\")\n",
        "g.addVertice(\"E\")\n",
        "g.addVertice(\"F\")\n",
        "g.addVertice(\"G\")\n",
        "g.addVertice(\"H\")\n",
        "g.addVertice(\"I\")\n",
        "g.addVertice(\"J\")\n",
        "g.addVertice(\"K\")\n",
        "g.addVertice(\"L\")\n",
        "g.addVertice(\"M\")\n",
        "g.addVertice(\"N\")\n",
        "g.addVertice(\"O\")\n",
        "g.addVertice(\"P\")\n",
        "g.addVertice(\"R\")\n",
        "g.addVertice(\"S\")\n"
      ],
      "execution_count": 3,
      "outputs": [
        {
          "output_type": "execute_result",
          "data": {
            "text/plain": [
              "True"
            ]
          },
          "metadata": {
            "tags": []
          },
          "execution_count": 3
        }
      ]
    },
    {
      "cell_type": "code",
      "metadata": {
        "colab": {
          "base_uri": "https://localhost:8080/"
        },
        "id": "5M11Z-HaxoSq",
        "outputId": "c97cafac-47d2-4aa2-e047-eda14df7a480"
      },
      "source": [
        "\r\n",
        "#añadir nodos\r\n",
        "g.addEdge(\"A\", \"B\", 1, False)\r\n",
        "g.addEdge(\"B\", \"E\", 1, False)\r\n",
        "g.addEdge(\"B\", \"F\", 1, False)\r\n",
        "g.addEdge(\"E\", \"I\", 1, False)\r\n",
        "g.addEdge(\"F\", \"J\", 1, False)\r\n",
        "g.addEdge(\"F\", \"K\", 1, False)\r\n",
        "g.addEdge(\"K\", \"O\", 1, False)\r\n",
        "g.addEdge(\"K\", \"P\", 1, False)\r\n",
        "g.addEdge(\"A\", \"C\", 1, False)\r\n",
        "g.addEdge(\"C\", \"G\", 1, False)\r\n",
        "g.addEdge(\"G\", \"L\", 1, False)\r\n",
        "g.addEdge(\"L\", \"R\", 1, False)\r\n",
        "g.addEdge(\"A\", \"D\", 1, False)\r\n",
        "g.addEdge(\"D\", \"H\", 1, False)\r\n",
        "g.addEdge(\"H\", \"M\", 1, False)\r\n",
        "g.addEdge(\"H\", \"N\", 1, False)\r\n",
        "g.addEdge(\"N\", \"S\", 1, False)\r\n"
      ],
      "execution_count": 4,
      "outputs": [
        {
          "output_type": "execute_result",
          "data": {
            "text/plain": [
              "True"
            ]
          },
          "metadata": {
            "tags": []
          },
          "execution_count": 4
        }
      ]
    },
    {
      "cell_type": "code",
      "metadata": {
        "colab": {
          "base_uri": "https://localhost:8080/"
        },
        "id": "50c1_Z3Rxpy9",
        "outputId": "d5cbb254-2cc5-4f81-ae03-0dc3ef88fed4"
      },
      "source": [
        "#imprimir ruta de nodo inicial a nodo final\r\n",
        "if g.rout(\"A\", \"k\"):\r\n",
        "  print(\"True\")\r\n",
        "else:\r\n",
        "  print(\"None\")\r\n",
        "\r\n",
        "print(g.width(\"A\"))\r\n",
        "\r\n",
        "\r\n",
        "if g.rout(\"A\", \"R\"):\r\n",
        "  print(\"A\",end=\" \")\r\n",
        "  print(\"True\")\r\n",
        "else:\r\n",
        "  print(\"None\")"
      ],
      "execution_count": 5,
      "outputs": [
        {
          "output_type": "stream",
          "text": [
            "None\n",
            "['A', 'B', 'C', 'D', 'E', 'F', 'G', 'H', 'I', 'J', 'K', 'L', 'M', 'N', 'O', 'P', 'R', 'S']\n",
            "R L G C A True\n"
          ],
          "name": "stdout"
        }
      ]
    }
  ]
}