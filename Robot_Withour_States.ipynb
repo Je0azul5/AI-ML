{
  "nbformat": 4,
  "nbformat_minor": 0,
  "metadata": {
    "colab": {
      "name": "Robot Withour States.ipynb",
      "provenance": [],
      "authorship_tag": "ABX9TyNPYfBx61QI1lG5qL6P7iY6",
      "include_colab_link": true
    },
    "kernelspec": {
      "display_name": "Python 3",
      "name": "python3"
    },
    "widgets": {
      "application/vnd.jupyter.widget-state+json": {
        "e1eb3663774547c399b2255e587f11dd": {
          "model_module": "@jupyter-widgets/controls",
          "model_name": "HTMLModel",
          "state": {
            "_view_name": "HTMLView",
            "style": "IPY_MODEL_f5adcb37fca6446d9842acd91514fabd",
            "_dom_classes": [],
            "description": "",
            "_model_name": "HTMLModel",
            "placeholder": "​",
            "_view_module": "@jupyter-widgets/controls",
            "_model_module_version": "1.5.0",
            "value": "<table border='1' ><tr><td style='height:40px;width:40px'></td><td style='height:40px;width:40px'></td><td style='height:40px;width:40px'></td></tr><tr><td style='height:40px;width:40px'></td><td style='height:40px;width:40px'></td><td style='height:40px;width:40px'></td></tr><tr><td style='height:40px;width:40px'></td><td style='height:40px;width:40px'></td><td style='height:40px;width:40px'><span style='font-size:30px;'>🤖</span></td></tr></table>",
            "_view_count": null,
            "_view_module_version": "1.5.0",
            "description_tooltip": null,
            "_model_module": "@jupyter-widgets/controls",
            "layout": "IPY_MODEL_8f7436253947418f85211c4ea3695be7"
          }
        },
        "f5adcb37fca6446d9842acd91514fabd": {
          "model_module": "@jupyter-widgets/controls",
          "model_name": "DescriptionStyleModel",
          "state": {
            "_view_name": "StyleView",
            "_model_name": "DescriptionStyleModel",
            "description_width": "",
            "_view_module": "@jupyter-widgets/base",
            "_model_module_version": "1.5.0",
            "_view_count": null,
            "_view_module_version": "1.2.0",
            "_model_module": "@jupyter-widgets/controls"
          }
        },
        "8f7436253947418f85211c4ea3695be7": {
          "model_module": "@jupyter-widgets/base",
          "model_name": "LayoutModel",
          "state": {
            "_view_name": "LayoutView",
            "grid_template_rows": null,
            "right": null,
            "justify_content": null,
            "_view_module": "@jupyter-widgets/base",
            "overflow": null,
            "_model_module_version": "1.2.0",
            "_view_count": null,
            "flex_flow": null,
            "width": null,
            "min_width": null,
            "border": null,
            "align_items": null,
            "bottom": null,
            "_model_module": "@jupyter-widgets/base",
            "top": null,
            "grid_column": null,
            "overflow_y": null,
            "overflow_x": null,
            "grid_auto_flow": null,
            "grid_area": null,
            "grid_template_columns": null,
            "flex": null,
            "_model_name": "LayoutModel",
            "justify_items": null,
            "grid_row": null,
            "max_height": null,
            "align_content": null,
            "visibility": null,
            "align_self": null,
            "height": null,
            "min_height": null,
            "padding": null,
            "grid_auto_rows": null,
            "grid_gap": null,
            "max_width": null,
            "order": null,
            "_view_module_version": "1.2.0",
            "grid_template_areas": null,
            "object_position": null,
            "object_fit": null,
            "grid_auto_columns": null,
            "margin": null,
            "display": null,
            "left": null
          }
        }
      }
    }
  },
  "cells": [
    {
      "cell_type": "markdown",
      "metadata": {
        "id": "view-in-github",
        "colab_type": "text"
      },
      "source": [
        "<a href=\"https://colab.research.google.com/github/Je0azul5/AI-ML/blob/main/Robot_Withour_States.ipynb\" target=\"_parent\"><img src=\"https://colab.research.google.com/assets/colab-badge.svg\" alt=\"Open In Colab\"/></a>"
      ]
    },
    {
      "cell_type": "code",
      "metadata": {
        "id": "RrOef-504L1M"
      },
      "source": [
        "from IPython.display import display\r\n",
        "from ipywidgets import Image\r\n",
        "import ipywidgets as widgets\r\n",
        "import time\r\n",
        "import numpy as np\r\n",
        "from random import randrange "
      ],
      "execution_count": 17,
      "outputs": []
    },
    {
      "cell_type": "code",
      "metadata": {
        "id": "zCA1TD3c-_mp"
      },
      "source": [
        "class Tablero():\n",
        "  nCeldas=None\n",
        "  def __init__(self, x,y,trash=[], tamanoCelda=(40, 40)):\n",
        "    self.out = widgets.HTML()\n",
        "    display(self.out)\n",
        "    self.x=x\n",
        "    self.y=y\n",
        "    self.tamanoCelda = tamanoCelda\n",
        "    self.trash=trash\n",
        "    self.nCeldas = (x,y)\n",
        "\n",
        "\n",
        "  def dibujar(self):\n",
        "    tablero = \"<table border='1' >{}</table>\"\n",
        "    filas = \"\"\n",
        "\n",
        "    for i in range(self.nCeldas[1]):\n",
        "      s = \"\"\n",
        "      #print(str(i)+\" i\")\n",
        "      for j in range(self.nCeldas[0]):\n",
        "        contenido = \"\"\n",
        "        for k in range(len(self.trash)):\n",
        "          if (int(self.trash[k].x)==i and int(self.trash[k].y)==j):\n",
        "            contenido = \\\n",
        "              \"<span style='font-size:{tamanoEmoticon}px;'>{emoticon}</span>\".\\\n",
        "              format(tamanoEmoticon= self.trash[k].tamanoEmoticon, emoticon=self.trash[k].emoticon)\n",
        "        if agente.x == j and agente.y == i:\n",
        "          contenido = \\\n",
        "          \"<span style='font-size:{tamanoEmoticon}px;'>{emoticon}</span>\".\\\n",
        "          format(tamanoEmoticon=agente.tamanoEmoticon, emoticon=agente.emoticon)\n",
        "\n",
        "        s += \"<td style='height:{alto}px;width:{ancho}px'>{contenido}</td>\".\\\n",
        "        format(alto = self.tamanoCelda[0], ancho=self.tamanoCelda[1], \n",
        "               contenido=contenido)\n",
        "      filas += \"<tr>{}</tr>\".format(s)\n",
        "    tablero = tablero.format(filas)\n",
        "    \n",
        "    self.out.value=tablero"
      ],
      "execution_count": 18,
      "outputs": []
    },
    {
      "cell_type": "code",
      "metadata": {
        "id": "9qMQ3A2A5G48"
      },
      "source": [
        "class Basura():\r\n",
        "   def __init__(self, x, y, emoticon=\"🦠\", tamanoEmoticon=30):\r\n",
        "    self.x = x\r\n",
        "    self.y = y\r\n",
        "    self.emoticon = emoticon\r\n",
        "    self.tamanoEmoticon = tamanoEmoticon"
      ],
      "execution_count": 19,
      "outputs": []
    },
    {
      "cell_type": "code",
      "metadata": {
        "id": "LlnVis3u_Cdv"
      },
      "source": [
        "class Agente():\n",
        "\n",
        "  def __init__(self, x, y, emoticon=\"🤖\", tamanoEmoticon=30):\n",
        "    self.x = x\n",
        "    self.y = y\n",
        "    self.emoticon = emoticon\n",
        "    self.tamanoEmoticon = tamanoEmoticon\n",
        "\n",
        "  rx=[]\n",
        "  ry=[]\n",
        "  def derecha(self,algo):\n",
        "    if self.x<algo.x-1:\n",
        "      self.x += 1\n",
        "      return True \n",
        "   \n",
        "  def abajo(self,algo):\n",
        "    if self.y<algo.y-1:\n",
        "      self.y += 1\n",
        "      return True\n",
        "  \n",
        "  def izq(self,algo):\n",
        "    if self.x<algo.x and self.x>0:\n",
        "      self.x -= 1\n",
        "      return True\n",
        "   \n",
        "  \n",
        "  def arriba(self,algo):\n",
        "    if self.y>0 and self.x<algo.y:\n",
        "      self.y -= 1\n",
        "      return True\n",
        "\n",
        "  \n",
        "  def barrer(self,algo):\n",
        "    a= randrange(1,5,1)\n",
        "      \n",
        "    self.rx.append(self.x)\n",
        "    self.ry.append(self.y)\n",
        "    if a==1:\n",
        "      self.derecha(algo)\n",
        "      self.recBasura(algo)  \n",
        "      \n",
        "    if a==2:\n",
        "      self.abajo(algo)\n",
        "      self.recBasura(algo)\n",
        "      \n",
        "    if a==3:\n",
        "      self.izq(algo)\n",
        "      self.recBasura(algo)\n",
        "    \n",
        "    if a==4:\n",
        "      self.arriba(algo)\n",
        "      self.recBasura(algo)\n",
        "    \n",
        "  def recBasura(self, tablero):\n",
        "      for i in range(len(tablero.trash)):\n",
        "        if int(self.y)==int(tablero.trash[i].x) and int(self.x)==int(tablero.trash[i].y):\n",
        "          tablero.trash.pop(i)\n",
        "          break\n"
      ],
      "execution_count": 20,
      "outputs": []
    },
    {
      "cell_type": "code",
      "metadata": {
        "colab": {
          "base_uri": "https://localhost:8080/",
          "height": 347,
          "referenced_widgets": [
            "e1eb3663774547c399b2255e587f11dd",
            "f5adcb37fca6446d9842acd91514fabd",
            "8f7436253947418f85211c4ea3695be7"
          ]
        },
        "id": "rTk3SPXQ_MFZ",
        "outputId": "ae4fbe3e-a771-43ba-a903-beb7acae55e5"
      },
      "source": [
        "k=int(input('Tamaño de tablero ancho '))\n",
        "l=int(input('Tamaño de tablero largo '))\n",
        "   \n",
        "arrayBasuras=[]\n",
        "\n",
        "d=int(input('cordenada X del agente'))\n",
        "f=int(input('cordenada Y del agente'))\n",
        "agente = Agente(d,f)\n",
        "a=(input('Canrtidad de basuras a entrar '))\n",
        "a=int(a)\n",
        "\n",
        "for i in range(a):\n",
        "   b=input('cordenada X de la basura numero '+str(i+1)+\" \")\n",
        "   c=input('cordenada Y de la basura numero '+str(i+1)+\" \")\n",
        "   basura= Basura(b,c)\n",
        "   arrayBasuras.append(basura)\n",
        "\n",
        "escenario = Tablero(k,l,arrayBasuras)\n",
        "i=0\n",
        "while True:\n",
        "  escenario.dibujar()\n",
        "  time.sleep(1)\n",
        "  i +=1\n",
        "  if int(len(escenario.trash)) == 0: \n",
        "    print(\"las baldosas recorridas son de: \"+str(i*2))\n",
        "    break \n",
        "  agente.barrer(escenario)\n",
        "  "
      ],
      "execution_count": 21,
      "outputs": [
        {
          "output_type": "stream",
          "text": [
            "Tamaño de tablero ancho 3\n",
            "Tamaño de tablero largo 3\n",
            "cordenada X del agente0\n",
            "cordenada Y del agente0\n",
            "Canrtidad de basuras a entrar 2\n",
            "cordenada X de la basura numero 1 2\n",
            "cordenada Y de la basura numero 1 2\n",
            "cordenada X de la basura numero 2 0\n",
            "cordenada Y de la basura numero 2 2\n"
          ],
          "name": "stdout"
        },
        {
          "output_type": "display_data",
          "data": {
            "application/vnd.jupyter.widget-view+json": {
              "model_id": "e1eb3663774547c399b2255e587f11dd",
              "version_minor": 0,
              "version_major": 2
            },
            "text/plain": [
              "HTML(value='')"
            ]
          },
          "metadata": {
            "tags": []
          }
        },
        {
          "output_type": "stream",
          "text": [
            "las baldosas recorridas son de: 102\n"
          ],
          "name": "stdout"
        }
      ]
    }
  ]
}