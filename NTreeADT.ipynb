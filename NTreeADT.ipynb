{
  "nbformat": 4,
  "nbformat_minor": 0,
  "metadata": {
    "colab": {
      "name": "NTreeADT.ipynb",
      "provenance": [],
      "collapsed_sections": [],
      "authorship_tag": "ABX9TyM2C49iuOHicmWbpdzip6IH",
      "include_colab_link": true
    },
    "kernelspec": {
      "name": "python3",
      "display_name": "Python 3"
    }
  },
  "cells": [
    {
      "cell_type": "markdown",
      "metadata": {
        "id": "view-in-github",
        "colab_type": "text"
      },
      "source": [
        "<a href=\"https://colab.research.google.com/github/Je0azul5/AI-ML/blob/main/NTreeADT.ipynb\" target=\"_parent\"><img src=\"https://colab.research.google.com/assets/colab-badge.svg\" alt=\"Open In Colab\"/></a>"
      ]
    },
    {
      "cell_type": "code",
      "metadata": {
        "id": "SPtMCDK6QbpI"
      },
      "source": [
        "import collections\n",
        "class Tree():\n",
        "    hijos:None\n",
        "    element:None\n",
        "\n",
        "    def __init__(self, element):\n",
        "        self.hijos = []\n",
        "        self.element = element\n",
        "        \n",
        "    def add(self,tree, element, elementoPadre):\n",
        "        subarbol = self.searchSub(tree, elementoPadre);\n",
        "        subarbol.hijos.append(Tree(element))\n",
        "\n",
        "    def searchSub(self,tree, element):\n",
        "        if tree.element == element:\n",
        "            return tree\n",
        "        for subarbol in tree.hijos:\n",
        "            arbolBuscado = self.searchSub(subarbol, element)\n",
        "            if (arbolBuscado != None):\n",
        "                return arbolBuscado\n",
        "        return None \n",
        " \n",
        "    def height(self,tree):\n",
        "        if len(tree.hijos) == 0: \n",
        "            return 1\n",
        "        return 1 + max(map(self.height,tree.hijos)) \n",
        " \n",
        "    def route(self,tree, funcion):\n",
        "        funcion(tree.element)\n",
        "        for hijo in tree.hijos:\n",
        "            self.route(hijo, funcion)\n",
        "    \n",
        "    def printElement(self,element):\n",
        "        print (element)\n",
        "\n",
        "    def byLevel(self,tree, funcion, cola = collections.deque()):\n",
        "        funcion(tree.element)\n",
        "        if (len(tree.hijos) > 0):\n",
        "            cola.extend(tree.hijos)\n",
        "        if (len(cola) != 0):\n",
        "            self.byLevel(cola.popleft(), funcion, cola)  \n",
        "\n",
        "    def isSon(self,tree,son,dad):       \n",
        "          a=False\n",
        "          for x in self.searchSub(tree,dad).hijos:\n",
        "            if son == x.element:\n",
        "              return True\n",
        "                  \n",
        "          return a\n",
        "\n",
        "    def isGSon(self,tree,gson,gdad):\n",
        "        a=False\n",
        "        for x in self.searchSub(tree,gdad).hijos:\n",
        "            print(x.element)\n",
        "            for y in x.hijos:\n",
        "            #    print(y.element)\n",
        "                if id(gson) == id(y.element):\n",
        "                    a=True            \n",
        "        return a\n",
        "\n",
        "\n",
        "    def isBro(self,tree,bro,bro1):\n",
        "      a=False\n",
        "      b=False\n",
        "      for x in self.searchSub(tree,tree.element).hijos:\n",
        "        if bro == x.element:\n",
        "            a=True\n",
        "            #print(x.element)\n",
        "        if bro1==x.element:\n",
        "            b=True\n",
        "        else:\n",
        "          self.isBro(x,bro,bro1)\n",
        "\n",
        "      if a and b:\n",
        "        return True\n",
        "      else:\n",
        "        return False\n",
        "\n",
        "    def isUncle(self, tree, uncle,cousin):\n",
        "    \n",
        "      if (uncle != tree.element) and not self.isBro(tree,uncle,cousin) and (uncle != cousin):\n",
        "        return True\n",
        "      else:\n",
        "        return False \n",
        "\n"
      ],
      "execution_count": 1,
      "outputs": []
    },
    {
      "cell_type": "code",
      "metadata": {
        "id": "X_GzSXqpVQKM",
        "colab": {
          "base_uri": "https://localhost:8080/"
        },
        "outputId": "93f8f90f-ab0c-4b31-d4ce-64490f28ac18"
      },
      "source": [
        "camilo = \"Camilo\"\n",
        "juan = \"Juan\"\n",
        "pedro = \"Pedro\"\n",
        "ines = \"Ines\"\n",
        "susan = \"Susan\"\n",
        "maria = \"Maria\"\n",
        "\n",
        "\n",
        "arbol = Tree(camilo)\n",
        "arbol.add(arbol,juan,camilo)\n",
        "arbol.add(arbol,pedro,camilo)\n",
        "arbol.add(arbol,ines,pedro)\n",
        "arbol.add(arbol,susan,pedro)\n",
        "arbol.add(arbol,maria,pedro)\n",
        "\n",
        "#print(\"Arbol genealogico \")\n",
        "#arbol.route(arbol, arbol.printElement)\n",
        "\n",
        "#print(\"Altura del arbol \"+str(arbol.height(arbol)) )\n",
        "\n",
        "print(\"Pedro hijo de Camilo \"+str(arbol.isSon(arbol,pedro,camilo)))\n",
        "\n",
        "print(\"Juan tio de Maria \"+str(arbol.isUncle(arbol,juan,maria)))\n",
        "\n",
        "print(\"Susan nieta de Camilo \"+str(arbol.isGSon(arbol,susan,camilo)))\n",
        "\n",
        "#print(\"Arbol genealogico 2.0 \")\n",
        "#arbol.byLevel(arbol, arbol.printElement)\n",
        "\n"
      ],
      "execution_count": 2,
      "outputs": [
        {
          "output_type": "stream",
          "text": [
            "Pedro hijo de Camilo True\n",
            "Juan tio de Maria True\n",
            "Juan\n",
            "Pedro\n",
            "Susan nieta de Camilo True\n"
          ],
          "name": "stdout"
        }
      ]
    }
  ]
}