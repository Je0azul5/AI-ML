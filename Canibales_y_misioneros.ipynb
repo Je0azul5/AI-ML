{
  "nbformat": 4,
  "nbformat_minor": 0,
  "metadata": {
    "colab": {
      "name": "Canibales y misioneros.ipynb",
      "provenance": [],
      "include_colab_link": true
    },
    "kernelspec": {
      "name": "python3",
      "display_name": "Python 3"
    }
  },
  "cells": [
    {
      "cell_type": "markdown",
      "metadata": {
        "id": "view-in-github",
        "colab_type": "text"
      },
      "source": [
        "<a href=\"https://colab.research.google.com/github/Je0azul5/AI-ML/blob/main/Canibales_y_misioneros.ipynb\" target=\"_parent\"><img src=\"https://colab.research.google.com/assets/colab-badge.svg\" alt=\"Open In Colab\"/></a>"
      ]
    },
    {
      "cell_type": "code",
      "metadata": {
        "id": "61IGTyeRyHB6"
      },
      "source": [
        "import copy"
      ],
      "execution_count": 1,
      "outputs": []
    },
    {
      "cell_type": "code",
      "metadata": {
        "id": "wU8oxQmz-2ae"
      },
      "source": [
        "class Estado:\n",
        "    def __init__(self, estado, boat):\n",
        "        self.estado = estado\n",
        "        self.boat = boat\n",
        "        if not self.isValid():\n",
        "            raise ValueError(\"estado no válido\")\n",
        "\n",
        "    #Metodo isValid, el cual nos dice si es posible o no el numero de misioneros\n",
        "    #o canibales     \n",
        "    def isValid(self):\n",
        "        for gente in self.estado:\n",
        "            for persona in gente:\n",
        "                if persona > 4 or persona < 0:\n",
        "                    return False\n",
        "        for mis, can in self.estado:\n",
        "            if mis and can > mis:\n",
        "                return False\n",
        "        return True\n",
        "     \n",
        "    # metodo travel, movimiento de misioneros o canibales al lado que se deba\n",
        "    def travel(self, gente):\n",
        "        estado = copy.deepcopy(self.estado)\n",
        "        boat = self.boat\n",
        "        estado[boat][0] -= gente[0]\n",
        "        estado[boat][1] -= gente[1]\n",
        "        boat = 0 if boat else 1\n",
        "        estado[boat][0] += gente[0]\n",
        "        estado[boat][1] += gente[1]\n",
        "        return Estado(estado, boat)\n",
        "     \n",
        "     #metodo __str__ pinta el camnino\n",
        "    def __str__(self):\n",
        "        return \"M: %d C: %d | %s %s | M: %d C: %d\" % (\n",
        "            self.estado[0][0],\n",
        "            self.estado[0][1],\n",
        "            \"<\" * 8 * self.boat,\n",
        "            \">\" * (8 - 8 * self.boat),\n",
        "            self.estado[1][0],\n",
        "            self.estado[1][1],\n",
        "        )\n",
        "     \n",
        "    def __eq__(self, other):\n",
        "        return self.estado == other.estado and self.boat == other.boat\n",
        "     \n",
        "    def __ne__(self, other):\n",
        "        return not self.__eq__(other)"
      ],
      "execution_count": 2,
      "outputs": []
    },
    {
      "cell_type": "code",
      "metadata": {
        "id": "qK28ypqWyI_7"
      },
      "source": [
        "#estado incial\r\n",
        "start = Estado([[3, 3], [0, 0]], 0)\r\n",
        "#estado final\r\n",
        "end = Estado([[0, 0], [3, 3]], 1)\r\n",
        "#estados posibles\r\n",
        "viajes = [[1, 0], [0, 1], [1, 1], [2, 0], [0, 2]]\r\n",
        "posible = list(viajes)\r\n",
        "viajado = []\r\n",
        "restante = []\r\n"
      ],
      "execution_count": 3,
      "outputs": []
    },
    {
      "cell_type": "code",
      "metadata": {
        "id": "-_FzBLp4CkE9",
        "colab": {
          "base_uri": "https://localhost:8080/"
        },
        "outputId": "92c37996-8ad9-41ba-bba0-3fc4a230490e"
      },
      "source": [
        "#busca la posibilidad correcta\n",
        "while start != end and posible:\n",
        "    while posible:\n",
        "        viaje = posible.pop()\n",
        "        try:\n",
        "            new = start.travel(viaje)\n",
        "            if new not in viajado:\n",
        "                viajado.append(start)\n",
        "                restante.append(posible)\n",
        "                start = new\n",
        "                posible = list(viajes)\n",
        "        except ValueError:\n",
        "            pass\n",
        "\n",
        "    if not posible and viajado:\n",
        "        start = viajado.pop()\n",
        "        posible = restante.pop()\n",
        "\n",
        "#imprime el resultado y los pasos     \n",
        "if start == end:\n",
        "    print(\"Resultado\")\n",
        "    for estado in viajado:\n",
        "      print(estado)\n",
        "    print(start)\n",
        "else:\n",
        "    print(\"Sin resultado\")\n",
        "     \n"
      ],
      "execution_count": 4,
      "outputs": [
        {
          "output_type": "stream",
          "text": [
            "Resultado\n",
            "M: 3 C: 3 |  >>>>>>>> | M: 0 C: 0\n",
            "M: 3 C: 1 | <<<<<<<<  | M: 0 C: 2\n",
            "M: 3 C: 2 |  >>>>>>>> | M: 0 C: 1\n",
            "M: 3 C: 0 | <<<<<<<<  | M: 0 C: 3\n",
            "M: 3 C: 1 |  >>>>>>>> | M: 0 C: 2\n",
            "M: 1 C: 1 | <<<<<<<<  | M: 2 C: 2\n",
            "M: 2 C: 2 |  >>>>>>>> | M: 1 C: 1\n",
            "M: 0 C: 2 | <<<<<<<<  | M: 3 C: 1\n",
            "M: 0 C: 3 |  >>>>>>>> | M: 3 C: 0\n",
            "M: 0 C: 1 | <<<<<<<<  | M: 3 C: 2\n",
            "M: 0 C: 2 |  >>>>>>>> | M: 3 C: 1\n",
            "M: 0 C: 0 | <<<<<<<<  | M: 3 C: 3\n"
          ],
          "name": "stdout"
        }
      ]
    }
  ]
}