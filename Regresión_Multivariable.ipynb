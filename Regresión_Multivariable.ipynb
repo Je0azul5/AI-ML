{
  "nbformat": 4,
  "nbformat_minor": 0,
  "metadata": {
    "colab": {
      "name": "Regresión_Multivariable.ipynb",
      "provenance": [],
      "collapsed_sections": [],
      "toc_visible": true,
      "include_colab_link": true
    },
    "kernelspec": {
      "name": "python3",
      "display_name": "Python 3"
    }
  },
  "cells": [
    {
      "cell_type": "markdown",
      "metadata": {
        "id": "view-in-github",
        "colab_type": "text"
      },
      "source": [
        "<a href=\"https://colab.research.google.com/github/Je0azul5/IA-ML/blob/main/Regresi%C3%B3n_Multivariable.ipynb\" target=\"_parent\"><img src=\"https://colab.research.google.com/assets/colab-badge.svg\" alt=\"Open In Colab\"/></a>"
      ]
    },
    {
      "cell_type": "code",
      "metadata": {
        "id": "MnN3Jxt6zFnu"
      },
      "source": [
        "#Se imortan las bibliotecas necesarias\n",
        "import numpy as np\n",
        "import pandas as pd\n",
        "import scipy.stats as stats\n",
        "import matplotlib.pyplot as plt\n",
        "import seaborn as sns\n",
        "#segun el porcentaje, grupo de entrenamiento y grupo de prueba\n",
        "from sklearn.model_selection import train_test_split\n",
        "#Modelo de regresion lineal\n",
        "from sklearn.linear_model import LinearRegression\n",
        "#Las metricas para evaluar el modelo\n",
        "from sklearn.metrics import mean_absolute_error, mean_squared_error, r2_score\n",
        "import math \n",
        "\n",
        "%matplotlib inline"
      ],
      "execution_count": null,
      "outputs": []
    },
    {
      "cell_type": "code",
      "metadata": {
        "colab": {
          "base_uri": "https://localhost:8080/",
          "height": 513
        },
        "id": "GLPI_ntyz-6V",
        "outputId": "35f07b1a-3e1b-4359-e80e-d2dc406a4ec0"
      },
      "source": [
        "#Se importa el Dataframe\n",
        "datafMultivariable = pd.read_csv('https://raw.githubusercontent.com/Je0azul5/weired/master/weatherHistory.csv')\n",
        "datafMultivariable.head()"
      ],
      "execution_count": null,
      "outputs": [
        {
          "output_type": "execute_result",
          "data": {
            "text/html": [
              "<div>\n",
              "<style scoped>\n",
              "    .dataframe tbody tr th:only-of-type {\n",
              "        vertical-align: middle;\n",
              "    }\n",
              "\n",
              "    .dataframe tbody tr th {\n",
              "        vertical-align: top;\n",
              "    }\n",
              "\n",
              "    .dataframe thead th {\n",
              "        text-align: right;\n",
              "    }\n",
              "</style>\n",
              "<table border=\"1\" class=\"dataframe\">\n",
              "  <thead>\n",
              "    <tr style=\"text-align: right;\">\n",
              "      <th></th>\n",
              "      <th>Formatted Date</th>\n",
              "      <th>Summary</th>\n",
              "      <th>Precip Type</th>\n",
              "      <th>Temperature (C)</th>\n",
              "      <th>Apparent Temperature (C)</th>\n",
              "      <th>Humidity</th>\n",
              "      <th>Wind Speed (km/h)</th>\n",
              "      <th>Wind Bearing (degrees)</th>\n",
              "      <th>Visibility (km)</th>\n",
              "      <th>Loud Cover</th>\n",
              "      <th>Pressure (millibars)</th>\n",
              "      <th>Daily Summary</th>\n",
              "    </tr>\n",
              "  </thead>\n",
              "  <tbody>\n",
              "    <tr>\n",
              "      <th>0</th>\n",
              "      <td>2006-04-01 00:00:00.000 +0200</td>\n",
              "      <td>Partly Cloudy</td>\n",
              "      <td>rain</td>\n",
              "      <td>9.472222</td>\n",
              "      <td>7.388889</td>\n",
              "      <td>0.89</td>\n",
              "      <td>14.1197</td>\n",
              "      <td>251.0</td>\n",
              "      <td>15.8263</td>\n",
              "      <td>0.0</td>\n",
              "      <td>1015.13</td>\n",
              "      <td>Partly cloudy throughout the day.</td>\n",
              "    </tr>\n",
              "    <tr>\n",
              "      <th>1</th>\n",
              "      <td>2006-04-01 01:00:00.000 +0200</td>\n",
              "      <td>Partly Cloudy</td>\n",
              "      <td>rain</td>\n",
              "      <td>9.355556</td>\n",
              "      <td>7.227778</td>\n",
              "      <td>0.86</td>\n",
              "      <td>14.2646</td>\n",
              "      <td>259.0</td>\n",
              "      <td>15.8263</td>\n",
              "      <td>0.0</td>\n",
              "      <td>1015.63</td>\n",
              "      <td>Partly cloudy throughout the day.</td>\n",
              "    </tr>\n",
              "    <tr>\n",
              "      <th>2</th>\n",
              "      <td>2006-04-01 02:00:00.000 +0200</td>\n",
              "      <td>Mostly Cloudy</td>\n",
              "      <td>rain</td>\n",
              "      <td>9.377778</td>\n",
              "      <td>9.377778</td>\n",
              "      <td>0.89</td>\n",
              "      <td>3.9284</td>\n",
              "      <td>204.0</td>\n",
              "      <td>14.9569</td>\n",
              "      <td>0.0</td>\n",
              "      <td>1015.94</td>\n",
              "      <td>Partly cloudy throughout the day.</td>\n",
              "    </tr>\n",
              "    <tr>\n",
              "      <th>3</th>\n",
              "      <td>2006-04-01 03:00:00.000 +0200</td>\n",
              "      <td>Partly Cloudy</td>\n",
              "      <td>rain</td>\n",
              "      <td>8.288889</td>\n",
              "      <td>5.944444</td>\n",
              "      <td>0.83</td>\n",
              "      <td>14.1036</td>\n",
              "      <td>269.0</td>\n",
              "      <td>15.8263</td>\n",
              "      <td>0.0</td>\n",
              "      <td>1016.41</td>\n",
              "      <td>Partly cloudy throughout the day.</td>\n",
              "    </tr>\n",
              "    <tr>\n",
              "      <th>4</th>\n",
              "      <td>2006-04-01 04:00:00.000 +0200</td>\n",
              "      <td>Mostly Cloudy</td>\n",
              "      <td>rain</td>\n",
              "      <td>8.755556</td>\n",
              "      <td>6.977778</td>\n",
              "      <td>0.83</td>\n",
              "      <td>11.0446</td>\n",
              "      <td>259.0</td>\n",
              "      <td>15.8263</td>\n",
              "      <td>0.0</td>\n",
              "      <td>1016.51</td>\n",
              "      <td>Partly cloudy throughout the day.</td>\n",
              "    </tr>\n",
              "  </tbody>\n",
              "</table>\n",
              "</div>"
            ],
            "text/plain": [
              "                  Formatted Date  ...                      Daily Summary\n",
              "0  2006-04-01 00:00:00.000 +0200  ...  Partly cloudy throughout the day.\n",
              "1  2006-04-01 01:00:00.000 +0200  ...  Partly cloudy throughout the day.\n",
              "2  2006-04-01 02:00:00.000 +0200  ...  Partly cloudy throughout the day.\n",
              "3  2006-04-01 03:00:00.000 +0200  ...  Partly cloudy throughout the day.\n",
              "4  2006-04-01 04:00:00.000 +0200  ...  Partly cloudy throughout the day.\n",
              "\n",
              "[5 rows x 12 columns]"
            ]
          },
          "metadata": {
            "tags": []
          },
          "execution_count": 83
        }
      ]
    },
    {
      "cell_type": "code",
      "metadata": {
        "colab": {
          "base_uri": "https://localhost:8080/"
        },
        "id": "mbYaMBcc0PgV",
        "outputId": "5f8b1635-a36b-465e-f2ce-bbabeadb30e7"
      },
      "source": [
        "#Nombre de cada uno de los features\n",
        "datafMultivariable.columns"
      ],
      "execution_count": null,
      "outputs": [
        {
          "output_type": "execute_result",
          "data": {
            "text/plain": [
              "Index(['Formatted Date', 'Summary', 'Precip Type', 'Temperature (C)',\n",
              "       'Apparent Temperature (C)', 'Humidity', 'Wind Speed (km/h)',\n",
              "       'Wind Bearing (degrees)', 'Visibility (km)', 'Loud Cover',\n",
              "       'Pressure (millibars)', 'Daily Summary'],\n",
              "      dtype='object')"
            ]
          },
          "metadata": {
            "tags": []
          },
          "execution_count": 84
        }
      ]
    },
    {
      "cell_type": "code",
      "metadata": {
        "colab": {
          "base_uri": "https://localhost:8080/"
        },
        "id": "M4UGTDEZ0hGt",
        "outputId": "01c6fe30-d92a-4e5f-d6b6-96fbd313bd4d"
      },
      "source": [
        "#Se quiere observar el tipo de dato de cada features\n",
        "datafMultivariable.info()"
      ],
      "execution_count": null,
      "outputs": [
        {
          "output_type": "stream",
          "text": [
            "<class 'pandas.core.frame.DataFrame'>\n",
            "RangeIndex: 96453 entries, 0 to 96452\n",
            "Data columns (total 12 columns):\n",
            " #   Column                    Non-Null Count  Dtype  \n",
            "---  ------                    --------------  -----  \n",
            " 0   Formatted Date            96453 non-null  object \n",
            " 1   Summary                   96453 non-null  object \n",
            " 2   Precip Type               95936 non-null  object \n",
            " 3   Temperature (C)           96453 non-null  float64\n",
            " 4   Apparent Temperature (C)  96453 non-null  float64\n",
            " 5   Humidity                  96453 non-null  float64\n",
            " 6   Wind Speed (km/h)         96453 non-null  float64\n",
            " 7   Wind Bearing (degrees)    96453 non-null  float64\n",
            " 8   Visibility (km)           96453 non-null  float64\n",
            " 9   Loud Cover                96453 non-null  float64\n",
            " 10  Pressure (millibars)      96453 non-null  float64\n",
            " 11  Daily Summary             96453 non-null  object \n",
            "dtypes: float64(8), object(4)\n",
            "memory usage: 8.8+ MB\n"
          ],
          "name": "stdout"
        }
      ]
    },
    {
      "cell_type": "code",
      "metadata": {
        "colab": {
          "base_uri": "https://localhost:8080/"
        },
        "id": "xAbKbaxj3on0",
        "outputId": "5e20731f-5cc2-4c3c-8597-7c0e1d7a75cf"
      },
      "source": [
        "# Se quiere observar los datos perdidos en generl del\n",
        "# Dataframe\n",
        "nan_df = datafMultivariable[datafMultivariable.isna().any(axis=1)]\n",
        "nan_df.count()"
      ],
      "execution_count": null,
      "outputs": [
        {
          "output_type": "execute_result",
          "data": {
            "text/plain": [
              "Formatted Date              517\n",
              "Summary                     517\n",
              "Precip Type                   0\n",
              "Temperature (C)             517\n",
              "Apparent Temperature (C)    517\n",
              "Humidity                    517\n",
              "Wind Speed (km/h)           517\n",
              "Wind Bearing (degrees)      517\n",
              "Visibility (km)             517\n",
              "Loud Cover                  517\n",
              "Pressure (millibars)        517\n",
              "Daily Summary               517\n",
              "dtype: int64"
            ]
          },
          "metadata": {
            "tags": []
          },
          "execution_count": 86
        }
      ]
    },
    {
      "cell_type": "code",
      "metadata": {
        "colab": {
          "base_uri": "https://localhost:8080/"
        },
        "id": "16vJGg_g4pA0",
        "outputId": "c1357ea7-7a11-4eb1-c5f1-e085310d58c6"
      },
      "source": [
        "# Cantidad de observaciones y features\n",
        "datafMultivariable.shape"
      ],
      "execution_count": null,
      "outputs": [
        {
          "output_type": "execute_result",
          "data": {
            "text/plain": [
              "(96453, 12)"
            ]
          },
          "metadata": {
            "tags": []
          },
          "execution_count": 87
        }
      ]
    },
    {
      "cell_type": "code",
      "metadata": {
        "colab": {
          "base_uri": "https://localhost:8080/"
        },
        "id": "lKAryoxQ3008",
        "outputId": "a6cdf576-659b-478c-b08a-d98215890769"
      },
      "source": [
        "# Situación que puede suceder en los ficheros \".csv,\n",
        "# es que existan datos perdidos o desaparecidos \"missing values\"\n",
        "# es necesario manipular estos datos \n",
        "# (borrar, reemplazar: promedio, ...) [análista: procesamiento de datos]\n",
        "# Proporcion de datos desaparecidos\n",
        "proporcionNaN = (517/datafMultivariable.shape[0])*100\n",
        "print(\"La proporción de datos NaN en el dataframe es: \", proporcionNaN, \"%\")"
      ],
      "execution_count": null,
      "outputs": [
        {
          "output_type": "stream",
          "text": [
            "La proporción de datos NaN en el dataframe es:  0.5360123583506993 %\n"
          ],
          "name": "stdout"
        }
      ]
    },
    {
      "cell_type": "code",
      "metadata": {
        "colab": {
          "base_uri": "https://localhost:8080/"
        },
        "id": "j8viKglA4SJd",
        "outputId": "39b5bce6-ff30-40a4-8dc6-867b5aea1b08"
      },
      "source": [
        "# Como la proporcion de los datos es no significativa (menos del 1%)\n",
        "# se toma la desición de eliminar las observaciones con data Nan\n",
        "datafMultivariable.dropna(inplace=True)\n",
        "datafMultivariable.shape"
      ],
      "execution_count": null,
      "outputs": [
        {
          "output_type": "execute_result",
          "data": {
            "text/plain": [
              "(95936, 12)"
            ]
          },
          "metadata": {
            "tags": []
          },
          "execution_count": 89
        }
      ]
    },
    {
      "cell_type": "code",
      "metadata": {
        "colab": {
          "base_uri": "https://localhost:8080/",
          "height": 258
        },
        "id": "6r470w650p4U",
        "outputId": "31695df8-4243-46d9-da7f-e44d8e572477"
      },
      "source": [
        "# A manera de APRENDIZAJE, crearemos un datarame auxiliar con\n",
        "# las variables númericas\n",
        "dfAUX = datafMultivariable[['Temperature (C)',\n",
        "                            'Apparent Temperature (C)',\n",
        "                            'Humidity',\n",
        "                            'Wind Speed (km/h)',                            \n",
        "                            'Wind Bearing (degrees)',\n",
        "                            'Visibility (km)',\n",
        "                            'Loud Cover',\n",
        "                            'Pressure (millibars)']]\n",
        "dfAUX.head()"
      ],
      "execution_count": null,
      "outputs": [
        {
          "output_type": "execute_result",
          "data": {
            "text/html": [
              "<div>\n",
              "<style scoped>\n",
              "    .dataframe tbody tr th:only-of-type {\n",
              "        vertical-align: middle;\n",
              "    }\n",
              "\n",
              "    .dataframe tbody tr th {\n",
              "        vertical-align: top;\n",
              "    }\n",
              "\n",
              "    .dataframe thead th {\n",
              "        text-align: right;\n",
              "    }\n",
              "</style>\n",
              "<table border=\"1\" class=\"dataframe\">\n",
              "  <thead>\n",
              "    <tr style=\"text-align: right;\">\n",
              "      <th></th>\n",
              "      <th>Temperature (C)</th>\n",
              "      <th>Apparent Temperature (C)</th>\n",
              "      <th>Humidity</th>\n",
              "      <th>Wind Speed (km/h)</th>\n",
              "      <th>Wind Bearing (degrees)</th>\n",
              "      <th>Visibility (km)</th>\n",
              "      <th>Loud Cover</th>\n",
              "      <th>Pressure (millibars)</th>\n",
              "    </tr>\n",
              "  </thead>\n",
              "  <tbody>\n",
              "    <tr>\n",
              "      <th>0</th>\n",
              "      <td>9.472222</td>\n",
              "      <td>7.388889</td>\n",
              "      <td>0.89</td>\n",
              "      <td>14.1197</td>\n",
              "      <td>251.0</td>\n",
              "      <td>15.8263</td>\n",
              "      <td>0.0</td>\n",
              "      <td>1015.13</td>\n",
              "    </tr>\n",
              "    <tr>\n",
              "      <th>1</th>\n",
              "      <td>9.355556</td>\n",
              "      <td>7.227778</td>\n",
              "      <td>0.86</td>\n",
              "      <td>14.2646</td>\n",
              "      <td>259.0</td>\n",
              "      <td>15.8263</td>\n",
              "      <td>0.0</td>\n",
              "      <td>1015.63</td>\n",
              "    </tr>\n",
              "    <tr>\n",
              "      <th>2</th>\n",
              "      <td>9.377778</td>\n",
              "      <td>9.377778</td>\n",
              "      <td>0.89</td>\n",
              "      <td>3.9284</td>\n",
              "      <td>204.0</td>\n",
              "      <td>14.9569</td>\n",
              "      <td>0.0</td>\n",
              "      <td>1015.94</td>\n",
              "    </tr>\n",
              "    <tr>\n",
              "      <th>3</th>\n",
              "      <td>8.288889</td>\n",
              "      <td>5.944444</td>\n",
              "      <td>0.83</td>\n",
              "      <td>14.1036</td>\n",
              "      <td>269.0</td>\n",
              "      <td>15.8263</td>\n",
              "      <td>0.0</td>\n",
              "      <td>1016.41</td>\n",
              "    </tr>\n",
              "    <tr>\n",
              "      <th>4</th>\n",
              "      <td>8.755556</td>\n",
              "      <td>6.977778</td>\n",
              "      <td>0.83</td>\n",
              "      <td>11.0446</td>\n",
              "      <td>259.0</td>\n",
              "      <td>15.8263</td>\n",
              "      <td>0.0</td>\n",
              "      <td>1016.51</td>\n",
              "    </tr>\n",
              "  </tbody>\n",
              "</table>\n",
              "</div>"
            ],
            "text/plain": [
              "   Temperature (C)  Apparent Temperature (C)  ...  Loud Cover  Pressure (millibars)\n",
              "0         9.472222                  7.388889  ...         0.0               1015.13\n",
              "1         9.355556                  7.227778  ...         0.0               1015.63\n",
              "2         9.377778                  9.377778  ...         0.0               1015.94\n",
              "3         8.288889                  5.944444  ...         0.0               1016.41\n",
              "4         8.755556                  6.977778  ...         0.0               1016.51\n",
              "\n",
              "[5 rows x 8 columns]"
            ]
          },
          "metadata": {
            "tags": []
          },
          "execution_count": 90
        }
      ]
    },
    {
      "cell_type": "code",
      "metadata": {
        "colab": {
          "base_uri": "https://localhost:8080/"
        },
        "id": "MXyIZRfk0sJW",
        "outputId": "10239b18-827c-42cc-cc75-03ef47aaa95c"
      },
      "source": [
        "dfAUX.info()"
      ],
      "execution_count": null,
      "outputs": [
        {
          "output_type": "stream",
          "text": [
            "<class 'pandas.core.frame.DataFrame'>\n",
            "Int64Index: 95936 entries, 0 to 96452\n",
            "Data columns (total 8 columns):\n",
            " #   Column                    Non-Null Count  Dtype  \n",
            "---  ------                    --------------  -----  \n",
            " 0   Temperature (C)           95936 non-null  float64\n",
            " 1   Apparent Temperature (C)  95936 non-null  float64\n",
            " 2   Humidity                  95936 non-null  float64\n",
            " 3   Wind Speed (km/h)         95936 non-null  float64\n",
            " 4   Wind Bearing (degrees)    95936 non-null  float64\n",
            " 5   Visibility (km)           95936 non-null  float64\n",
            " 6   Loud Cover                95936 non-null  float64\n",
            " 7   Pressure (millibars)      95936 non-null  float64\n",
            "dtypes: float64(8)\n",
            "memory usage: 6.6 MB\n"
          ],
          "name": "stdout"
        }
      ]
    },
    {
      "cell_type": "code",
      "metadata": {
        "colab": {
          "base_uri": "https://localhost:8080/"
        },
        "id": "88hRbMJF1jCE",
        "outputId": "7ab59380-cedf-4349-cae7-6d3a45e886f9"
      },
      "source": [
        "# Parece que no se deberia dejar por fuera de nuestro modelo \n",
        "# las variables \"Summary\" \"Precip Type\" (se sospecha que pueden incidir positivamente sobre el modelo)\n",
        "# revisemos estas variables \"Categoricas\"\n",
        "datafMultivariable[\"Summary\"].unique()\n"
      ],
      "execution_count": null,
      "outputs": [
        {
          "output_type": "execute_result",
          "data": {
            "text/plain": [
              "array(['Partly Cloudy', 'Mostly Cloudy', 'Overcast', 'Foggy',\n",
              "       'Breezy and Mostly Cloudy', 'Clear', 'Breezy and Partly Cloudy',\n",
              "       'Breezy and Overcast', 'Humid and Mostly Cloudy',\n",
              "       'Humid and Partly Cloudy', 'Windy and Foggy', 'Windy and Overcast',\n",
              "       'Breezy and Foggy', 'Windy and Partly Cloudy', 'Breezy',\n",
              "       'Dry and Partly Cloudy', 'Windy and Mostly Cloudy',\n",
              "       'Dangerously Windy and Partly Cloudy', 'Dry', 'Windy',\n",
              "       'Humid and Overcast', 'Light Rain', 'Drizzle', 'Windy and Dry',\n",
              "       'Dry and Mostly Cloudy', 'Breezy and Dry', 'Rain'], dtype=object)"
            ]
          },
          "metadata": {
            "tags": []
          },
          "execution_count": 92
        }
      ]
    },
    {
      "cell_type": "code",
      "metadata": {
        "colab": {
          "base_uri": "https://localhost:8080/"
        },
        "id": "fH3z2jRg0sNf",
        "outputId": "10532f97-17bb-46d1-df86-9b51404b25b6"
      },
      "source": [
        "datafMultivariable[\"Precip Type\"].unique()"
      ],
      "execution_count": null,
      "outputs": [
        {
          "output_type": "execute_result",
          "data": {
            "text/plain": [
              "array(['rain', 'snow'], dtype=object)"
            ]
          },
          "metadata": {
            "tags": []
          },
          "execution_count": 93
        }
      ]
    },
    {
      "cell_type": "code",
      "metadata": {
        "colab": {
          "base_uri": "https://localhost:8080/",
          "height": 204
        },
        "id": "DY9wgb1M3f81",
        "outputId": "d33c4856-d2a7-4264-bc3b-bd6090033067"
      },
      "source": [
        "# Para variables tipo objeto que representan categórias existe una función \"dummy\"\n",
        "# La cual permite transformar a variable \"categoricas numericas\"\n",
        "dfDummy = pd.get_dummies(datafMultivariable['Precip Type'])\n",
        "dfDummy.head()"
      ],
      "execution_count": null,
      "outputs": [
        {
          "output_type": "execute_result",
          "data": {
            "text/html": [
              "<div>\n",
              "<style scoped>\n",
              "    .dataframe tbody tr th:only-of-type {\n",
              "        vertical-align: middle;\n",
              "    }\n",
              "\n",
              "    .dataframe tbody tr th {\n",
              "        vertical-align: top;\n",
              "    }\n",
              "\n",
              "    .dataframe thead th {\n",
              "        text-align: right;\n",
              "    }\n",
              "</style>\n",
              "<table border=\"1\" class=\"dataframe\">\n",
              "  <thead>\n",
              "    <tr style=\"text-align: right;\">\n",
              "      <th></th>\n",
              "      <th>rain</th>\n",
              "      <th>snow</th>\n",
              "    </tr>\n",
              "  </thead>\n",
              "  <tbody>\n",
              "    <tr>\n",
              "      <th>0</th>\n",
              "      <td>1</td>\n",
              "      <td>0</td>\n",
              "    </tr>\n",
              "    <tr>\n",
              "      <th>1</th>\n",
              "      <td>1</td>\n",
              "      <td>0</td>\n",
              "    </tr>\n",
              "    <tr>\n",
              "      <th>2</th>\n",
              "      <td>1</td>\n",
              "      <td>0</td>\n",
              "    </tr>\n",
              "    <tr>\n",
              "      <th>3</th>\n",
              "      <td>1</td>\n",
              "      <td>0</td>\n",
              "    </tr>\n",
              "    <tr>\n",
              "      <th>4</th>\n",
              "      <td>1</td>\n",
              "      <td>0</td>\n",
              "    </tr>\n",
              "  </tbody>\n",
              "</table>\n",
              "</div>"
            ],
            "text/plain": [
              "   rain  snow\n",
              "0     1     0\n",
              "1     1     0\n",
              "2     1     0\n",
              "3     1     0\n",
              "4     1     0"
            ]
          },
          "metadata": {
            "tags": []
          },
          "execution_count": 94
        }
      ]
    },
    {
      "cell_type": "code",
      "metadata": {
        "colab": {
          "base_uri": "https://localhost:8080/",
          "height": 258
        },
        "id": "yMsALcAx8Quc",
        "outputId": "6271f2c4-2641-4bc1-d882-7cffe9767c4f"
      },
      "source": [
        "# Agregamos [unimos] a dfAUX nuestro dataframe dfDummy\n",
        "dfAUX = dfAUX.merge(dfDummy, left_index=True, right_index=True)\n",
        "dfAUX.head()"
      ],
      "execution_count": null,
      "outputs": [
        {
          "output_type": "execute_result",
          "data": {
            "text/html": [
              "<div>\n",
              "<style scoped>\n",
              "    .dataframe tbody tr th:only-of-type {\n",
              "        vertical-align: middle;\n",
              "    }\n",
              "\n",
              "    .dataframe tbody tr th {\n",
              "        vertical-align: top;\n",
              "    }\n",
              "\n",
              "    .dataframe thead th {\n",
              "        text-align: right;\n",
              "    }\n",
              "</style>\n",
              "<table border=\"1\" class=\"dataframe\">\n",
              "  <thead>\n",
              "    <tr style=\"text-align: right;\">\n",
              "      <th></th>\n",
              "      <th>Temperature (C)</th>\n",
              "      <th>Apparent Temperature (C)</th>\n",
              "      <th>Humidity</th>\n",
              "      <th>Wind Speed (km/h)</th>\n",
              "      <th>Wind Bearing (degrees)</th>\n",
              "      <th>Visibility (km)</th>\n",
              "      <th>Loud Cover</th>\n",
              "      <th>Pressure (millibars)</th>\n",
              "      <th>rain</th>\n",
              "      <th>snow</th>\n",
              "    </tr>\n",
              "  </thead>\n",
              "  <tbody>\n",
              "    <tr>\n",
              "      <th>0</th>\n",
              "      <td>9.472222</td>\n",
              "      <td>7.388889</td>\n",
              "      <td>0.89</td>\n",
              "      <td>14.1197</td>\n",
              "      <td>251.0</td>\n",
              "      <td>15.8263</td>\n",
              "      <td>0.0</td>\n",
              "      <td>1015.13</td>\n",
              "      <td>1</td>\n",
              "      <td>0</td>\n",
              "    </tr>\n",
              "    <tr>\n",
              "      <th>1</th>\n",
              "      <td>9.355556</td>\n",
              "      <td>7.227778</td>\n",
              "      <td>0.86</td>\n",
              "      <td>14.2646</td>\n",
              "      <td>259.0</td>\n",
              "      <td>15.8263</td>\n",
              "      <td>0.0</td>\n",
              "      <td>1015.63</td>\n",
              "      <td>1</td>\n",
              "      <td>0</td>\n",
              "    </tr>\n",
              "    <tr>\n",
              "      <th>2</th>\n",
              "      <td>9.377778</td>\n",
              "      <td>9.377778</td>\n",
              "      <td>0.89</td>\n",
              "      <td>3.9284</td>\n",
              "      <td>204.0</td>\n",
              "      <td>14.9569</td>\n",
              "      <td>0.0</td>\n",
              "      <td>1015.94</td>\n",
              "      <td>1</td>\n",
              "      <td>0</td>\n",
              "    </tr>\n",
              "    <tr>\n",
              "      <th>3</th>\n",
              "      <td>8.288889</td>\n",
              "      <td>5.944444</td>\n",
              "      <td>0.83</td>\n",
              "      <td>14.1036</td>\n",
              "      <td>269.0</td>\n",
              "      <td>15.8263</td>\n",
              "      <td>0.0</td>\n",
              "      <td>1016.41</td>\n",
              "      <td>1</td>\n",
              "      <td>0</td>\n",
              "    </tr>\n",
              "    <tr>\n",
              "      <th>4</th>\n",
              "      <td>8.755556</td>\n",
              "      <td>6.977778</td>\n",
              "      <td>0.83</td>\n",
              "      <td>11.0446</td>\n",
              "      <td>259.0</td>\n",
              "      <td>15.8263</td>\n",
              "      <td>0.0</td>\n",
              "      <td>1016.51</td>\n",
              "      <td>1</td>\n",
              "      <td>0</td>\n",
              "    </tr>\n",
              "  </tbody>\n",
              "</table>\n",
              "</div>"
            ],
            "text/plain": [
              "   Temperature (C)  Apparent Temperature (C)  ...  rain  snow\n",
              "0         9.472222                  7.388889  ...     1     0\n",
              "1         9.355556                  7.227778  ...     1     0\n",
              "2         9.377778                  9.377778  ...     1     0\n",
              "3         8.288889                  5.944444  ...     1     0\n",
              "4         8.755556                  6.977778  ...     1     0\n",
              "\n",
              "[5 rows x 10 columns]"
            ]
          },
          "metadata": {
            "tags": []
          },
          "execution_count": 95
        }
      ]
    },
    {
      "cell_type": "code",
      "metadata": {
        "colab": {
          "base_uri": "https://localhost:8080/",
          "height": 359
        },
        "id": "bnN422kx8vWC",
        "outputId": "88d78d37-651d-4a2c-f89f-dd4227ba5f18"
      },
      "source": [
        "# Se quiere obtener un resumen estadistico de las observaciones\n",
        "dfAUX.describe().T"
      ],
      "execution_count": null,
      "outputs": [
        {
          "output_type": "execute_result",
          "data": {
            "text/html": [
              "<div>\n",
              "<style scoped>\n",
              "    .dataframe tbody tr th:only-of-type {\n",
              "        vertical-align: middle;\n",
              "    }\n",
              "\n",
              "    .dataframe tbody tr th {\n",
              "        vertical-align: top;\n",
              "    }\n",
              "\n",
              "    .dataframe thead th {\n",
              "        text-align: right;\n",
              "    }\n",
              "</style>\n",
              "<table border=\"1\" class=\"dataframe\">\n",
              "  <thead>\n",
              "    <tr style=\"text-align: right;\">\n",
              "      <th></th>\n",
              "      <th>count</th>\n",
              "      <th>mean</th>\n",
              "      <th>std</th>\n",
              "      <th>min</th>\n",
              "      <th>25%</th>\n",
              "      <th>50%</th>\n",
              "      <th>75%</th>\n",
              "      <th>max</th>\n",
              "    </tr>\n",
              "  </thead>\n",
              "  <tbody>\n",
              "    <tr>\n",
              "      <th>Temperature (C)</th>\n",
              "      <td>95936.0</td>\n",
              "      <td>11.940976</td>\n",
              "      <td>9.570671</td>\n",
              "      <td>-21.822222</td>\n",
              "      <td>4.604167</td>\n",
              "      <td>12.033333</td>\n",
              "      <td>18.844444</td>\n",
              "      <td>39.905556</td>\n",
              "    </tr>\n",
              "    <tr>\n",
              "      <th>Apparent Temperature (C)</th>\n",
              "      <td>95936.0</td>\n",
              "      <td>10.862531</td>\n",
              "      <td>10.717812</td>\n",
              "      <td>-27.716667</td>\n",
              "      <td>2.276389</td>\n",
              "      <td>12.033333</td>\n",
              "      <td>18.844444</td>\n",
              "      <td>39.344444</td>\n",
              "    </tr>\n",
              "    <tr>\n",
              "      <th>Humidity</th>\n",
              "      <td>95936.0</td>\n",
              "      <td>0.734841</td>\n",
              "      <td>0.195724</td>\n",
              "      <td>0.000000</td>\n",
              "      <td>0.600000</td>\n",
              "      <td>0.780000</td>\n",
              "      <td>0.890000</td>\n",
              "      <td>1.000000</td>\n",
              "    </tr>\n",
              "    <tr>\n",
              "      <th>Wind Speed (km/h)</th>\n",
              "      <td>95936.0</td>\n",
              "      <td>10.804936</td>\n",
              "      <td>6.920727</td>\n",
              "      <td>0.000000</td>\n",
              "      <td>5.796000</td>\n",
              "      <td>9.933700</td>\n",
              "      <td>14.135800</td>\n",
              "      <td>63.852600</td>\n",
              "    </tr>\n",
              "    <tr>\n",
              "      <th>Wind Bearing (degrees)</th>\n",
              "      <td>95936.0</td>\n",
              "      <td>187.518773</td>\n",
              "      <td>107.385351</td>\n",
              "      <td>0.000000</td>\n",
              "      <td>116.000000</td>\n",
              "      <td>180.000000</td>\n",
              "      <td>290.000000</td>\n",
              "      <td>359.000000</td>\n",
              "    </tr>\n",
              "    <tr>\n",
              "      <th>Visibility (km)</th>\n",
              "      <td>95936.0</td>\n",
              "      <td>10.362402</td>\n",
              "      <td>4.173780</td>\n",
              "      <td>0.000000</td>\n",
              "      <td>8.372000</td>\n",
              "      <td>10.046400</td>\n",
              "      <td>14.812000</td>\n",
              "      <td>16.100000</td>\n",
              "    </tr>\n",
              "    <tr>\n",
              "      <th>Loud Cover</th>\n",
              "      <td>95936.0</td>\n",
              "      <td>0.000000</td>\n",
              "      <td>0.000000</td>\n",
              "      <td>0.000000</td>\n",
              "      <td>0.000000</td>\n",
              "      <td>0.000000</td>\n",
              "      <td>0.000000</td>\n",
              "      <td>0.000000</td>\n",
              "    </tr>\n",
              "    <tr>\n",
              "      <th>Pressure (millibars)</th>\n",
              "      <td>95936.0</td>\n",
              "      <td>1003.150038</td>\n",
              "      <td>117.276976</td>\n",
              "      <td>0.000000</td>\n",
              "      <td>1011.890000</td>\n",
              "      <td>1016.420000</td>\n",
              "      <td>1021.050000</td>\n",
              "      <td>1046.380000</td>\n",
              "    </tr>\n",
              "    <tr>\n",
              "      <th>rain</th>\n",
              "      <td>95936.0</td>\n",
              "      <td>0.888342</td>\n",
              "      <td>0.314947</td>\n",
              "      <td>0.000000</td>\n",
              "      <td>1.000000</td>\n",
              "      <td>1.000000</td>\n",
              "      <td>1.000000</td>\n",
              "      <td>1.000000</td>\n",
              "    </tr>\n",
              "    <tr>\n",
              "      <th>snow</th>\n",
              "      <td>95936.0</td>\n",
              "      <td>0.111658</td>\n",
              "      <td>0.314947</td>\n",
              "      <td>0.000000</td>\n",
              "      <td>0.000000</td>\n",
              "      <td>0.000000</td>\n",
              "      <td>0.000000</td>\n",
              "      <td>1.000000</td>\n",
              "    </tr>\n",
              "  </tbody>\n",
              "</table>\n",
              "</div>"
            ],
            "text/plain": [
              "                            count         mean  ...          75%          max\n",
              "Temperature (C)           95936.0    11.940976  ...    18.844444    39.905556\n",
              "Apparent Temperature (C)  95936.0    10.862531  ...    18.844444    39.344444\n",
              "Humidity                  95936.0     0.734841  ...     0.890000     1.000000\n",
              "Wind Speed (km/h)         95936.0    10.804936  ...    14.135800    63.852600\n",
              "Wind Bearing (degrees)    95936.0   187.518773  ...   290.000000   359.000000\n",
              "Visibility (km)           95936.0    10.362402  ...    14.812000    16.100000\n",
              "Loud Cover                95936.0     0.000000  ...     0.000000     0.000000\n",
              "Pressure (millibars)      95936.0  1003.150038  ...  1021.050000  1046.380000\n",
              "rain                      95936.0     0.888342  ...     1.000000     1.000000\n",
              "snow                      95936.0     0.111658  ...     0.000000     1.000000\n",
              "\n",
              "[10 rows x 8 columns]"
            ]
          },
          "metadata": {
            "tags": []
          },
          "execution_count": 96
        }
      ]
    },
    {
      "cell_type": "code",
      "metadata": {
        "colab": {
          "base_uri": "https://localhost:8080/",
          "height": 406
        },
        "id": "XKke3Uop89nD",
        "outputId": "f143cdf2-feb4-462d-d221-a6bf4828a518"
      },
      "source": [
        "# Se quiere observar un mapa de calor que representa\n",
        "# la correlación entre los features\n",
        "sns.heatmap(dfAUX.corr())"
      ],
      "execution_count": null,
      "outputs": [
        {
          "output_type": "execute_result",
          "data": {
            "text/plain": [
              "<matplotlib.axes._subplots.AxesSubplot at 0x7f91a29d9dd8>"
            ]
          },
          "metadata": {
            "tags": []
          },
          "execution_count": 97
        },
        {
          "output_type": "display_data",
          "data": {
            "image/png": "[encoded data removed]",
            "text/plain": [
              "<Figure size 432x288 with 2 Axes>"
            ]
          },
          "metadata": {
            "tags": [],
            "needs_background": "light"
          }
        }
      ]
    },
    {
      "cell_type": "code",
      "metadata": {
        "colab": {
          "base_uri": "https://localhost:8080/",
          "height": 359
        },
        "id": "FTsXVi5I9LkL",
        "outputId": "7e3101f9-9968-4789-a4e7-e0bf772251ad"
      },
      "source": [
        "# Se quiere observar la matriz de correlación solamente (sin mapa de calor\n",
        "matrixCorrelacion = dfAUX.corr()\n",
        "matrixCorrelacion"
      ],
      "execution_count": null,
      "outputs": [
        {
          "output_type": "execute_result",
          "data": {
            "text/html": [
              "<div>\n",
              "<style scoped>\n",
              "    .dataframe tbody tr th:only-of-type {\n",
              "        vertical-align: middle;\n",
              "    }\n",
              "\n",
              "    .dataframe tbody tr th {\n",
              "        vertical-align: top;\n",
              "    }\n",
              "\n",
              "    .dataframe thead th {\n",
              "        text-align: right;\n",
              "    }\n",
              "</style>\n",
              "<table border=\"1\" class=\"dataframe\">\n",
              "  <thead>\n",
              "    <tr style=\"text-align: right;\">\n",
              "      <th></th>\n",
              "      <th>Temperature (C)</th>\n",
              "      <th>Apparent Temperature (C)</th>\n",
              "      <th>Humidity</th>\n",
              "      <th>Wind Speed (km/h)</th>\n",
              "      <th>Wind Bearing (degrees)</th>\n",
              "      <th>Visibility (km)</th>\n",
              "      <th>Loud Cover</th>\n",
              "      <th>Pressure (millibars)</th>\n",
              "      <th>rain</th>\n",
              "      <th>snow</th>\n",
              "    </tr>\n",
              "  </thead>\n",
              "  <tbody>\n",
              "    <tr>\n",
              "      <th>Temperature (C)</th>\n",
              "      <td>1.000000</td>\n",
              "      <td>0.992637</td>\n",
              "      <td>-0.632148</td>\n",
              "      <td>0.008304</td>\n",
              "      <td>0.029937</td>\n",
              "      <td>0.393719</td>\n",
              "      <td>NaN</td>\n",
              "      <td>-0.005253</td>\n",
              "      <td>0.563503</td>\n",
              "      <td>-0.563503</td>\n",
              "    </tr>\n",
              "    <tr>\n",
              "      <th>Apparent Temperature (C)</th>\n",
              "      <td>0.992637</td>\n",
              "      <td>1.000000</td>\n",
              "      <td>-0.602390</td>\n",
              "      <td>-0.057387</td>\n",
              "      <td>0.028951</td>\n",
              "      <td>0.382589</td>\n",
              "      <td>NaN</td>\n",
              "      <td>-0.000037</td>\n",
              "      <td>0.566058</td>\n",
              "      <td>-0.566058</td>\n",
              "    </tr>\n",
              "    <tr>\n",
              "      <th>Humidity</th>\n",
              "      <td>-0.632148</td>\n",
              "      <td>-0.602390</td>\n",
              "      <td>1.000000</td>\n",
              "      <td>-0.224569</td>\n",
              "      <td>0.000814</td>\n",
              "      <td>-0.370511</td>\n",
              "      <td>NaN</td>\n",
              "      <td>0.005375</td>\n",
              "      <td>-0.232622</td>\n",
              "      <td>0.232622</td>\n",
              "    </tr>\n",
              "    <tr>\n",
              "      <th>Wind Speed (km/h)</th>\n",
              "      <td>0.008304</td>\n",
              "      <td>-0.057387</td>\n",
              "      <td>-0.224569</td>\n",
              "      <td>1.000000</td>\n",
              "      <td>0.104366</td>\n",
              "      <td>0.100801</td>\n",
              "      <td>NaN</td>\n",
              "      <td>-0.049453</td>\n",
              "      <td>0.067771</td>\n",
              "      <td>-0.067771</td>\n",
              "    </tr>\n",
              "    <tr>\n",
              "      <th>Wind Bearing (degrees)</th>\n",
              "      <td>0.029937</td>\n",
              "      <td>0.028951</td>\n",
              "      <td>0.000814</td>\n",
              "      <td>0.104366</td>\n",
              "      <td>1.000000</td>\n",
              "      <td>0.048900</td>\n",
              "      <td>NaN</td>\n",
              "      <td>-0.011629</td>\n",
              "      <td>0.042142</td>\n",
              "      <td>-0.042142</td>\n",
              "    </tr>\n",
              "    <tr>\n",
              "      <th>Visibility (km)</th>\n",
              "      <td>0.393719</td>\n",
              "      <td>0.382589</td>\n",
              "      <td>-0.370511</td>\n",
              "      <td>0.100801</td>\n",
              "      <td>0.048900</td>\n",
              "      <td>1.000000</td>\n",
              "      <td>NaN</td>\n",
              "      <td>0.061011</td>\n",
              "      <td>0.316483</td>\n",
              "      <td>-0.316483</td>\n",
              "    </tr>\n",
              "    <tr>\n",
              "      <th>Loud Cover</th>\n",
              "      <td>NaN</td>\n",
              "      <td>NaN</td>\n",
              "      <td>NaN</td>\n",
              "      <td>NaN</td>\n",
              "      <td>NaN</td>\n",
              "      <td>NaN</td>\n",
              "      <td>NaN</td>\n",
              "      <td>NaN</td>\n",
              "      <td>NaN</td>\n",
              "      <td>NaN</td>\n",
              "    </tr>\n",
              "    <tr>\n",
              "      <th>Pressure (millibars)</th>\n",
              "      <td>-0.005253</td>\n",
              "      <td>-0.000037</td>\n",
              "      <td>0.005375</td>\n",
              "      <td>-0.049453</td>\n",
              "      <td>-0.011629</td>\n",
              "      <td>0.061011</td>\n",
              "      <td>NaN</td>\n",
              "      <td>1.000000</td>\n",
              "      <td>-0.009271</td>\n",
              "      <td>0.009271</td>\n",
              "    </tr>\n",
              "    <tr>\n",
              "      <th>rain</th>\n",
              "      <td>0.563503</td>\n",
              "      <td>0.566058</td>\n",
              "      <td>-0.232622</td>\n",
              "      <td>0.067771</td>\n",
              "      <td>0.042142</td>\n",
              "      <td>0.316483</td>\n",
              "      <td>NaN</td>\n",
              "      <td>-0.009271</td>\n",
              "      <td>1.000000</td>\n",
              "      <td>-1.000000</td>\n",
              "    </tr>\n",
              "    <tr>\n",
              "      <th>snow</th>\n",
              "      <td>-0.563503</td>\n",
              "      <td>-0.566058</td>\n",
              "      <td>0.232622</td>\n",
              "      <td>-0.067771</td>\n",
              "      <td>-0.042142</td>\n",
              "      <td>-0.316483</td>\n",
              "      <td>NaN</td>\n",
              "      <td>0.009271</td>\n",
              "      <td>-1.000000</td>\n",
              "      <td>1.000000</td>\n",
              "    </tr>\n",
              "  </tbody>\n",
              "</table>\n",
              "</div>"
            ],
            "text/plain": [
              "                          Temperature (C)  ...      snow\n",
              "Temperature (C)                  1.000000  ... -0.563503\n",
              "Apparent Temperature (C)         0.992637  ... -0.566058\n",
              "Humidity                        -0.632148  ...  0.232622\n",
              "Wind Speed (km/h)                0.008304  ... -0.067771\n",
              "Wind Bearing (degrees)           0.029937  ... -0.042142\n",
              "Visibility (km)                  0.393719  ... -0.316483\n",
              "Loud Cover                            NaN  ...       NaN\n",
              "Pressure (millibars)            -0.005253  ...  0.009271\n",
              "rain                             0.563503  ... -1.000000\n",
              "snow                            -0.563503  ...  1.000000\n",
              "\n",
              "[10 rows x 10 columns]"
            ]
          },
          "metadata": {
            "tags": []
          },
          "execution_count": 98
        }
      ]
    },
    {
      "cell_type": "code",
      "metadata": {
        "id": "s8kUcRdD9avb"
      },
      "source": [
        "# En función del valor de correlación (umbral), se presenta una relación entre las variables\n",
        "# Hacer una función que me seleccione las features segun un \"umbral\"\n",
        "def relacionFeatures(corrMatrix, umbral):\n",
        "  feature = []\n",
        "  valores = []\n",
        "\n",
        "  for i, index in enumerate(corrMatrix.index):\n",
        "    if abs(corrMatrix[index])> umbral:\n",
        "      feature.append(index)\n",
        "      valores.append(corrMatrix[index])\n",
        "  df = pd.DataFrame(data = valores, index = feature, columns = ['Valor de Correlación'])\n",
        "  return df"
      ],
      "execution_count": null,
      "outputs": []
    },
    {
      "cell_type": "code",
      "metadata": {
        "id": "BS2-wJEW-Z5G"
      },
      "source": [
        "# La idea es seleccionar las variables según un umbral de correlación \n",
        "# La idea principal es identificar la MULTICOLINEALIDAD\n",
        "# La variable TARGET es la sensación térmica \"Apparent Temperature (c)\"\n",
        "# ejemplo umbral = 0.2\n",
        "def valorCorrelacion(umbral):\n",
        "  valorCorrelacion = relacionFeatures(matrixCorrelacion['Apparent Temperature (C)'], umbral)\n",
        "  return valorCorrelacion"
      ],
      "execution_count": null,
      "outputs": []
    },
    {
      "cell_type": "code",
      "metadata": {
        "colab": {
          "base_uri": "https://localhost:8080/",
          "height": 204
        },
        "id": "J_mvyCDDBOJK",
        "outputId": "1b2df62f-9cfd-4c60-f127-285c177bc08e"
      },
      "source": [
        "#Se transforma el valor de correlación\n",
        "dataCorrelacion = dfAUX[valorCorrelacion(0.2).index]\n",
        "dataCorrelacion.head()"
      ],
      "execution_count": null,
      "outputs": [
        {
          "output_type": "execute_result",
          "data": {
            "text/html": [
              "<div>\n",
              "<style scoped>\n",
              "    .dataframe tbody tr th:only-of-type {\n",
              "        vertical-align: middle;\n",
              "    }\n",
              "\n",
              "    .dataframe tbody tr th {\n",
              "        vertical-align: top;\n",
              "    }\n",
              "\n",
              "    .dataframe thead th {\n",
              "        text-align: right;\n",
              "    }\n",
              "</style>\n",
              "<table border=\"1\" class=\"dataframe\">\n",
              "  <thead>\n",
              "    <tr style=\"text-align: right;\">\n",
              "      <th></th>\n",
              "      <th>Temperature (C)</th>\n",
              "      <th>Apparent Temperature (C)</th>\n",
              "      <th>Humidity</th>\n",
              "      <th>Visibility (km)</th>\n",
              "      <th>rain</th>\n",
              "      <th>snow</th>\n",
              "    </tr>\n",
              "  </thead>\n",
              "  <tbody>\n",
              "    <tr>\n",
              "      <th>0</th>\n",
              "      <td>9.472222</td>\n",
              "      <td>7.388889</td>\n",
              "      <td>0.89</td>\n",
              "      <td>15.8263</td>\n",
              "      <td>1</td>\n",
              "      <td>0</td>\n",
              "    </tr>\n",
              "    <tr>\n",
              "      <th>1</th>\n",
              "      <td>9.355556</td>\n",
              "      <td>7.227778</td>\n",
              "      <td>0.86</td>\n",
              "      <td>15.8263</td>\n",
              "      <td>1</td>\n",
              "      <td>0</td>\n",
              "    </tr>\n",
              "    <tr>\n",
              "      <th>2</th>\n",
              "      <td>9.377778</td>\n",
              "      <td>9.377778</td>\n",
              "      <td>0.89</td>\n",
              "      <td>14.9569</td>\n",
              "      <td>1</td>\n",
              "      <td>0</td>\n",
              "    </tr>\n",
              "    <tr>\n",
              "      <th>3</th>\n",
              "      <td>8.288889</td>\n",
              "      <td>5.944444</td>\n",
              "      <td>0.83</td>\n",
              "      <td>15.8263</td>\n",
              "      <td>1</td>\n",
              "      <td>0</td>\n",
              "    </tr>\n",
              "    <tr>\n",
              "      <th>4</th>\n",
              "      <td>8.755556</td>\n",
              "      <td>6.977778</td>\n",
              "      <td>0.83</td>\n",
              "      <td>15.8263</td>\n",
              "      <td>1</td>\n",
              "      <td>0</td>\n",
              "    </tr>\n",
              "  </tbody>\n",
              "</table>\n",
              "</div>"
            ],
            "text/plain": [
              "   Temperature (C)  Apparent Temperature (C)  ...  rain  snow\n",
              "0         9.472222                  7.388889  ...     1     0\n",
              "1         9.355556                  7.227778  ...     1     0\n",
              "2         9.377778                  9.377778  ...     1     0\n",
              "3         8.288889                  5.944444  ...     1     0\n",
              "4         8.755556                  6.977778  ...     1     0\n",
              "\n",
              "[5 rows x 6 columns]"
            ]
          },
          "metadata": {
            "tags": []
          },
          "execution_count": 101
        }
      ]
    },
    {
      "cell_type": "code",
      "metadata": {
        "id": "ZqNOwTQYA-ca"
      },
      "source": [
        "# Se ajusta a un modelo de Regresión Lineal\n",
        "x = dataCorrelacion.drop('Apparent Temperature (C)', axis=1)\n",
        "y = dataCorrelacion['Apparent Temperature (C)']\n",
        "\n",
        "#Dividir conjunto de Train y Test\n",
        "x_train,x_test, y_train, y_test=train_test_split(x,y,test_size=0.25,random_state=0)"
      ],
      "execution_count": null,
      "outputs": []
    },
    {
      "cell_type": "code",
      "metadata": {
        "id": "8M_QpnBHCBMi"
      },
      "source": [
        "#Selección del modelo Lineal\n",
        "modelo=LinearRegression()"
      ],
      "execution_count": null,
      "outputs": []
    },
    {
      "cell_type": "code",
      "metadata": {
        "colab": {
          "base_uri": "https://localhost:8080/"
        },
        "id": "4jA2JIp5CDOZ",
        "outputId": "9391ffc9-c32d-4186-a9cc-cd4462cec464"
      },
      "source": [
        "#Entrenar Modelo\n",
        "modelo.fit(x_train,y_train)"
      ],
      "execution_count": null,
      "outputs": [
        {
          "output_type": "execute_result",
          "data": {
            "text/plain": [
              "LinearRegression(copy_X=True, fit_intercept=True, n_jobs=None, normalize=False)"
            ]
          },
          "metadata": {
            "tags": []
          },
          "execution_count": 104
        }
      ]
    },
    {
      "cell_type": "code",
      "metadata": {
        "id": "0MLQ-NZ3CHmw"
      },
      "source": [
        "#variables de prediccion\n",
        "y_predict_train=modelo.predict(x_train)\n",
        "y_predict=modelo.predict(x_test)"
      ],
      "execution_count": null,
      "outputs": []
    },
    {
      "cell_type": "code",
      "metadata": {
        "colab": {
          "base_uri": "https://localhost:8080/"
        },
        "id": "fki3kyRJCunT",
        "outputId": "0dafdc40-987f-459c-830e-438c5d67e79f"
      },
      "source": [
        "#Impresion de los coeficientes y pendiente\n",
        "print('coeficiente: ',modelo.coef_)\n",
        "print('Intercepro: ',modelo.intercept_)"
      ],
      "execution_count": null,
      "outputs": [
        {
          "output_type": "stream",
          "text": [
            "coeficiente:  [ 1.13909812  2.18711338 -0.01045404  0.06463067 -0.06463067]\n",
            "Intercepro:  -4.287650381083125\n"
          ],
          "name": "stdout"
        }
      ]
    },
    {
      "cell_type": "code",
      "metadata": {
        "colab": {
          "base_uri": "https://localhost:8080/",
          "height": 359
        },
        "id": "bxvi11jwDe0C",
        "outputId": "7119ec43-376f-49a1-9181-5f77aa1938b3"
      },
      "source": [
        "#se evalua el modelo con las metricas\n",
        "#datos predichos vs reales\n",
        "data ={\n",
        "   'Actual':y_test,\n",
        "   'Predicted': y_predict\n",
        "}\n",
        "dfPredicted= pd.DataFrame(data)\n",
        "dfPredicted.head(10)"
      ],
      "execution_count": null,
      "outputs": [
        {
          "output_type": "execute_result",
          "data": {
            "text/html": [
              "<div>\n",
              "<style scoped>\n",
              "    .dataframe tbody tr th:only-of-type {\n",
              "        vertical-align: middle;\n",
              "    }\n",
              "\n",
              "    .dataframe tbody tr th {\n",
              "        vertical-align: top;\n",
              "    }\n",
              "\n",
              "    .dataframe thead th {\n",
              "        text-align: right;\n",
              "    }\n",
              "</style>\n",
              "<table border=\"1\" class=\"dataframe\">\n",
              "  <thead>\n",
              "    <tr style=\"text-align: right;\">\n",
              "      <th></th>\n",
              "      <th>Actual</th>\n",
              "      <th>Predicted</th>\n",
              "    </tr>\n",
              "  </thead>\n",
              "  <tbody>\n",
              "    <tr>\n",
              "      <th>79964</th>\n",
              "      <td>17.194444</td>\n",
              "      <td>17.405711</td>\n",
              "    </tr>\n",
              "    <tr>\n",
              "      <th>65554</th>\n",
              "      <td>25.044444</td>\n",
              "      <td>25.053682</td>\n",
              "    </tr>\n",
              "    <tr>\n",
              "      <th>41894</th>\n",
              "      <td>11.111111</td>\n",
              "      <td>10.403179</td>\n",
              "    </tr>\n",
              "    <tr>\n",
              "      <th>35862</th>\n",
              "      <td>13.894444</td>\n",
              "      <td>13.687719</td>\n",
              "    </tr>\n",
              "    <tr>\n",
              "      <th>11490</th>\n",
              "      <td>7.161111</td>\n",
              "      <td>7.413943</td>\n",
              "    </tr>\n",
              "    <tr>\n",
              "      <th>74751</th>\n",
              "      <td>25.050000</td>\n",
              "      <td>24.711728</td>\n",
              "    </tr>\n",
              "    <tr>\n",
              "      <th>65639</th>\n",
              "      <td>17.927778</td>\n",
              "      <td>17.897462</td>\n",
              "    </tr>\n",
              "    <tr>\n",
              "      <th>54287</th>\n",
              "      <td>-0.350000</td>\n",
              "      <td>-0.466963</td>\n",
              "    </tr>\n",
              "    <tr>\n",
              "      <th>34491</th>\n",
              "      <td>15.555556</td>\n",
              "      <td>15.360334</td>\n",
              "    </tr>\n",
              "    <tr>\n",
              "      <th>59536</th>\n",
              "      <td>7.216667</td>\n",
              "      <td>5.949857</td>\n",
              "    </tr>\n",
              "  </tbody>\n",
              "</table>\n",
              "</div>"
            ],
            "text/plain": [
              "          Actual  Predicted\n",
              "79964  17.194444  17.405711\n",
              "65554  25.044444  25.053682\n",
              "41894  11.111111  10.403179\n",
              "35862  13.894444  13.687719\n",
              "11490   7.161111   7.413943\n",
              "74751  25.050000  24.711728\n",
              "65639  17.927778  17.897462\n",
              "54287  -0.350000  -0.466963\n",
              "34491  15.555556  15.360334\n",
              "59536   7.216667   5.949857"
            ]
          },
          "metadata": {
            "tags": []
          },
          "execution_count": 107
        }
      ]
    },
    {
      "cell_type": "code",
      "metadata": {
        "colab": {
          "base_uri": "https://localhost:8080/"
        },
        "id": "eOHn700qDt8B",
        "outputId": "0f27c121-75a1-4ff1-c2ac-a33dd1f711d1"
      },
      "source": [
        "puntuacion = r2_score(y_test,y_predict)\n",
        "mae = mean_absolute_error(y_test,y_predict)\n",
        "mse = mean_squared_error(y_test,y_predict)\n",
        "\n",
        "print('Coeficiente de determinacion: ',puntuacion)\n",
        "print('Mean absolute error: ',mae)\n",
        "print('Mean Squared Error: ',mse)"
      ],
      "execution_count": null,
      "outputs": [
        {
          "output_type": "stream",
          "text": [
            "Coeficiente de determinacion:  0.9863601533800552\n",
            "Mean absolute error:  0.9443079749827328\n",
            "Mean Squared Error:  1.5622325934692725\n"
          ],
          "name": "stdout"
        }
      ]
    },
    {
      "cell_type": "code",
      "metadata": {
        "id": "AT2rL2kcJ3RC"
      },
      "source": [
        "def prediction(umbral):\n",
        "  vr = valorCorrelacion(umbral)\n",
        "  #Se transforma el valor de correlación\n",
        "  dataCorrelacion = dfAUX[vr.index]\n",
        "  dataCorrelacion.head()\n",
        "\n",
        "  # Se ajusta a un modelo de Regresión Lineal\n",
        "  x = dataCorrelacion.drop('Apparent Temperature (C)', axis=1)\n",
        "  y = dataCorrelacion['Apparent Temperature (C)']\n",
        "\n",
        "  #Dividir conjunto de Train y Test\n",
        "  x_train,x_test, y_train, y_test=train_test_split(x,y,test_size=0.25,random_state=0)\n",
        "  #Selección del modelo Lineal\n",
        "  modelo=LinearRegression()\n",
        "  #Entrenar Modelo\n",
        "  modelo.fit(x_train,y_train)\n",
        "  #variables de prediccion\n",
        "  y_predict_train=modelo.predict(x_train)\n",
        "  y_predict=modelo.predict(x_test)\n",
        "\n",
        "  return y_predict, y_test, vr"
      ],
      "execution_count": null,
      "outputs": []
    },
    {
      "cell_type": "code",
      "metadata": {
        "id": "yzAX7PXwOMvW"
      },
      "source": [
        "def dFFrame(umbral):\n",
        "  y_predict, y_test, vr = prediction(umbral)\n",
        "  puntuacion = r2_score(y_test,y_predict)\n",
        "  mae = mean_absolute_error(y_test,y_predict)\n",
        "  mse = mean_squared_error(y_test,y_predict)\n",
        "  vr['Coeficiente de determinacion']= puntuacion\n",
        "  vr['Error medio']= mae\n",
        "  vr['Error cuadratico medio']= mse\n",
        "  return vr"
      ],
      "execution_count": null,
      "outputs": []
    },
    {
      "cell_type": "code",
      "metadata": {
        "colab": {
          "base_uri": "https://localhost:8080/",
          "height": 300
        },
        "id": "F83FGMYDQalA",
        "outputId": "6a3c817e-33fe-4749-926e-9c0bc2fcd265"
      },
      "source": [
        "print(\"Con un umbral igual a 0.03:\\n\")\n",
        "dFFrame(0.03)\n"
      ],
      "execution_count": null,
      "outputs": [
        {
          "output_type": "stream",
          "text": [
            "Con un umbral igual a 0.03:\n",
            "\n"
          ],
          "name": "stdout"
        },
        {
          "output_type": "execute_result",
          "data": {
            "text/html": [
              "<div>\n",
              "<style scoped>\n",
              "    .dataframe tbody tr th:only-of-type {\n",
              "        vertical-align: middle;\n",
              "    }\n",
              "\n",
              "    .dataframe tbody tr th {\n",
              "        vertical-align: top;\n",
              "    }\n",
              "\n",
              "    .dataframe thead th {\n",
              "        text-align: right;\n",
              "    }\n",
              "</style>\n",
              "<table border=\"1\" class=\"dataframe\">\n",
              "  <thead>\n",
              "    <tr style=\"text-align: right;\">\n",
              "      <th></th>\n",
              "      <th>Valor de Correlación</th>\n",
              "      <th>Coeficiente de determinacion</th>\n",
              "      <th>Error medio</th>\n",
              "      <th>Error cuadratico medio</th>\n",
              "    </tr>\n",
              "  </thead>\n",
              "  <tbody>\n",
              "    <tr>\n",
              "      <th>Temperature (C)</th>\n",
              "      <td>0.992637</td>\n",
              "      <td>0.989856</td>\n",
              "      <td>0.850153</td>\n",
              "      <td>1.1618</td>\n",
              "    </tr>\n",
              "    <tr>\n",
              "      <th>Apparent Temperature (C)</th>\n",
              "      <td>1.000000</td>\n",
              "      <td>0.989856</td>\n",
              "      <td>0.850153</td>\n",
              "      <td>1.1618</td>\n",
              "    </tr>\n",
              "    <tr>\n",
              "      <th>Humidity</th>\n",
              "      <td>-0.602390</td>\n",
              "      <td>0.989856</td>\n",
              "      <td>0.850153</td>\n",
              "      <td>1.1618</td>\n",
              "    </tr>\n",
              "    <tr>\n",
              "      <th>Wind Speed (km/h)</th>\n",
              "      <td>-0.057387</td>\n",
              "      <td>0.989856</td>\n",
              "      <td>0.850153</td>\n",
              "      <td>1.1618</td>\n",
              "    </tr>\n",
              "    <tr>\n",
              "      <th>Visibility (km)</th>\n",
              "      <td>0.382589</td>\n",
              "      <td>0.989856</td>\n",
              "      <td>0.850153</td>\n",
              "      <td>1.1618</td>\n",
              "    </tr>\n",
              "    <tr>\n",
              "      <th>rain</th>\n",
              "      <td>0.566058</td>\n",
              "      <td>0.989856</td>\n",
              "      <td>0.850153</td>\n",
              "      <td>1.1618</td>\n",
              "    </tr>\n",
              "    <tr>\n",
              "      <th>snow</th>\n",
              "      <td>-0.566058</td>\n",
              "      <td>0.989856</td>\n",
              "      <td>0.850153</td>\n",
              "      <td>1.1618</td>\n",
              "    </tr>\n",
              "  </tbody>\n",
              "</table>\n",
              "</div>"
            ],
            "text/plain": [
              "                          Valor de Correlación  ...  Error cuadratico medio\n",
              "Temperature (C)                       0.992637  ...                  1.1618\n",
              "Apparent Temperature (C)              1.000000  ...                  1.1618\n",
              "Humidity                             -0.602390  ...                  1.1618\n",
              "Wind Speed (km/h)                    -0.057387  ...                  1.1618\n",
              "Visibility (km)                       0.382589  ...                  1.1618\n",
              "rain                                  0.566058  ...                  1.1618\n",
              "snow                                 -0.566058  ...                  1.1618\n",
              "\n",
              "[7 rows x 4 columns]"
            ]
          },
          "metadata": {
            "tags": []
          },
          "execution_count": 111
        }
      ]
    },
    {
      "cell_type": "code",
      "metadata": {
        "colab": {
          "base_uri": "https://localhost:8080/",
          "height": 176
        },
        "id": "XuR41SFeZe_L",
        "outputId": "c39f803b-ca4c-4291-9991-3566f671e1c1"
      },
      "source": [
        "print(\"Con un umbral igual a 0.6:\\n\")\n",
        "dFFrame(0.6)\n"
      ],
      "execution_count": null,
      "outputs": [
        {
          "output_type": "stream",
          "text": [
            "Con un umbral igual a 0.6:\n",
            "\n"
          ],
          "name": "stdout"
        },
        {
          "output_type": "execute_result",
          "data": {
            "text/html": [
              "<div>\n",
              "<style scoped>\n",
              "    .dataframe tbody tr th:only-of-type {\n",
              "        vertical-align: middle;\n",
              "    }\n",
              "\n",
              "    .dataframe tbody tr th {\n",
              "        vertical-align: top;\n",
              "    }\n",
              "\n",
              "    .dataframe thead th {\n",
              "        text-align: right;\n",
              "    }\n",
              "</style>\n",
              "<table border=\"1\" class=\"dataframe\">\n",
              "  <thead>\n",
              "    <tr style=\"text-align: right;\">\n",
              "      <th></th>\n",
              "      <th>Valor de Correlación</th>\n",
              "      <th>Coeficiente de determinacion</th>\n",
              "      <th>Error medio</th>\n",
              "      <th>Error cuadratico medio</th>\n",
              "    </tr>\n",
              "  </thead>\n",
              "  <tbody>\n",
              "    <tr>\n",
              "      <th>Temperature (C)</th>\n",
              "      <td>0.992637</td>\n",
              "      <td>0.986346</td>\n",
              "      <td>0.944579</td>\n",
              "      <td>1.5638</td>\n",
              "    </tr>\n",
              "    <tr>\n",
              "      <th>Apparent Temperature (C)</th>\n",
              "      <td>1.000000</td>\n",
              "      <td>0.986346</td>\n",
              "      <td>0.944579</td>\n",
              "      <td>1.5638</td>\n",
              "    </tr>\n",
              "    <tr>\n",
              "      <th>Humidity</th>\n",
              "      <td>-0.602390</td>\n",
              "      <td>0.986346</td>\n",
              "      <td>0.944579</td>\n",
              "      <td>1.5638</td>\n",
              "    </tr>\n",
              "  </tbody>\n",
              "</table>\n",
              "</div>"
            ],
            "text/plain": [
              "                          Valor de Correlación  ...  Error cuadratico medio\n",
              "Temperature (C)                       0.992637  ...                  1.5638\n",
              "Apparent Temperature (C)              1.000000  ...                  1.5638\n",
              "Humidity                             -0.602390  ...                  1.5638\n",
              "\n",
              "[3 rows x 4 columns]"
            ]
          },
          "metadata": {
            "tags": []
          },
          "execution_count": 112
        }
      ]
    },
    {
      "cell_type": "code",
      "metadata": {
        "colab": {
          "base_uri": "https://localhost:8080/",
          "height": 238
        },
        "id": "L5yrCqJeZfxz",
        "outputId": "d96fc921-5834-41ed-d282-420b3e865c96"
      },
      "source": [
        "print(\"Con un umbral igual a 0.4:\\n\")\n",
        "dFFrame(0.4)\n"
      ],
      "execution_count": null,
      "outputs": [
        {
          "output_type": "stream",
          "text": [
            "Con un umbral igual a 0.4:\n",
            "\n"
          ],
          "name": "stdout"
        },
        {
          "output_type": "execute_result",
          "data": {
            "text/html": [
              "<div>\n",
              "<style scoped>\n",
              "    .dataframe tbody tr th:only-of-type {\n",
              "        vertical-align: middle;\n",
              "    }\n",
              "\n",
              "    .dataframe tbody tr th {\n",
              "        vertical-align: top;\n",
              "    }\n",
              "\n",
              "    .dataframe thead th {\n",
              "        text-align: right;\n",
              "    }\n",
              "</style>\n",
              "<table border=\"1\" class=\"dataframe\">\n",
              "  <thead>\n",
              "    <tr style=\"text-align: right;\">\n",
              "      <th></th>\n",
              "      <th>Valor de Correlación</th>\n",
              "      <th>Coeficiente de determinacion</th>\n",
              "      <th>Error medio</th>\n",
              "      <th>Error cuadratico medio</th>\n",
              "    </tr>\n",
              "  </thead>\n",
              "  <tbody>\n",
              "    <tr>\n",
              "      <th>Temperature (C)</th>\n",
              "      <td>0.992637</td>\n",
              "      <td>0.986341</td>\n",
              "      <td>0.942915</td>\n",
              "      <td>1.564409</td>\n",
              "    </tr>\n",
              "    <tr>\n",
              "      <th>Apparent Temperature (C)</th>\n",
              "      <td>1.000000</td>\n",
              "      <td>0.986341</td>\n",
              "      <td>0.942915</td>\n",
              "      <td>1.564409</td>\n",
              "    </tr>\n",
              "    <tr>\n",
              "      <th>Humidity</th>\n",
              "      <td>-0.602390</td>\n",
              "      <td>0.986341</td>\n",
              "      <td>0.942915</td>\n",
              "      <td>1.564409</td>\n",
              "    </tr>\n",
              "    <tr>\n",
              "      <th>rain</th>\n",
              "      <td>0.566058</td>\n",
              "      <td>0.986341</td>\n",
              "      <td>0.942915</td>\n",
              "      <td>1.564409</td>\n",
              "    </tr>\n",
              "    <tr>\n",
              "      <th>snow</th>\n",
              "      <td>-0.566058</td>\n",
              "      <td>0.986341</td>\n",
              "      <td>0.942915</td>\n",
              "      <td>1.564409</td>\n",
              "    </tr>\n",
              "  </tbody>\n",
              "</table>\n",
              "</div>"
            ],
            "text/plain": [
              "                          Valor de Correlación  ...  Error cuadratico medio\n",
              "Temperature (C)                       0.992637  ...                1.564409\n",
              "Apparent Temperature (C)              1.000000  ...                1.564409\n",
              "Humidity                             -0.602390  ...                1.564409\n",
              "rain                                  0.566058  ...                1.564409\n",
              "snow                                 -0.566058  ...                1.564409\n",
              "\n",
              "[5 rows x 4 columns]"
            ]
          },
          "metadata": {
            "tags": []
          },
          "execution_count": 113
        }
      ]
    },
    {
      "cell_type": "markdown",
      "metadata": {
        "id": "a9M9CD-cZRqH"
      },
      "source": [
        "### Concluciones\n",
        "\n",
        "###1. El umbral y los features son inversamente proporcionales, adicionalmente son importantes para el entrenamiento del modelo  \n",
        "\n",
        "###2. Las predicciones del clima se muestran por el coeficiente de determinacion\n",
        "\n",
        "###3. Mientras el valor del umbral sea mas pequeño  el coeficiente sera mas acertado, esto da paso a versiones mas exactas\n",
        "\n",
        "###4. Al encontrarse las muestras cerca de la regrecionj lineal, el error disminuye cuando los valores de umbral son menores\n",
        "\n"
      ]
    }
  ]
}