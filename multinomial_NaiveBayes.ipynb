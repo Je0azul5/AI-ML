{
  "nbformat": 4,
  "nbformat_minor": 0,
  "metadata": {
    "colab": {
      "name": "multinomial NaiveBayes.ipynb",
      "provenance": [],
      "collapsed_sections": [],
      "authorship_tag": "ABX9TyOYoaBQqVv+GVYQZE7sQ8Ej",
      "include_colab_link": true
    },
    "kernelspec": {
      "name": "python3",
      "display_name": "Python 3"
    }
  },
  "cells": [
    {
      "cell_type": "markdown",
      "metadata": {
        "id": "view-in-github",
        "colab_type": "text"
      },
      "source": [
        "<a href=\"https://colab.research.google.com/github/Je0azul5/AI-ML/blob/main/multinomial_NaiveBayes.ipynb\" target=\"_parent\"><img src=\"https://colab.research.google.com/assets/colab-badge.svg\" alt=\"Open In Colab\"/></a>"
      ]
    },
    {
      "cell_type": "markdown",
      "metadata": {
        "id": "G7sXJ9HRaZuO"
      },
      "source": [
        "###Jhonatan David Sindicue Alvarado\r\n"
      ]
    },
    {
      "cell_type": "code",
      "metadata": {
        "id": "T95CzLKb5vPc"
      },
      "source": [
        "import numpy as np"
      ],
      "execution_count": 556,
      "outputs": []
    },
    {
      "cell_type": "code",
      "metadata": {
        "id": "oyDXu23KcpLQ"
      },
      "source": [
        "#Clasificador Naive Bayes multinomial \r\n",
        "class NaiveBayes():\r\n",
        "  #Inicializacion de parametros\r\n",
        "  X=None;\r\n",
        "  y=None;\r\n",
        "  #categorias Spam\r\n",
        "  catP=[]\r\n",
        "  #categorias No Spam\r\n",
        "  catN=[]\r\n",
        "  #Variables de entrenamiento\r\n",
        "  catPrs=[]\r\n",
        "  catPn=[]\r\n",
        "  \r\n",
        "  #Funcion fit, clasificador X,y\r\n",
        "  def fit(self, X, y):\r\n",
        "    \"\"\"\r\n",
        "    X: matriz de dispersion\r\n",
        "    y: Arreglo con n_ejemplos \r\n",
        "    \"\"\"\r\n",
        "    self.X=X;\r\n",
        "    self.y=y;\r\n",
        "    #Definicion de posiciones \r\n",
        "    for i,j in enumerate(self.y):\r\n",
        "      if j==1:\r\n",
        "        self.catP.append(i)\r\n",
        "      else:\r\n",
        "        self.catN.append(i)\r\n",
        "    \r\n",
        "    #Variables acumuladoras para el conteo de Spam o no \r\n",
        "    a=0\r\n",
        "    b=0\r\n",
        "    #Conteo en palabras que son spam\r\n",
        "    for i in self.catP:\r\n",
        "      a+= np.sum(X[i])\r\n",
        "    #Conteo en palabras que no son spam   \r\n",
        "    for i in self.catN:\r\n",
        "      b+= np.sum(X[i]) \r\n",
        "    #Arreglo auxiliar \r\n",
        "    porP=[]\r\n",
        "    #Se multiplica la probabilidad de ser Spam\r\n",
        "    for i in self.catP:\r\n",
        "      for j in X[i]:\r\n",
        "        if len(porP) == len(X[i]): \r\n",
        "          self.catPrs.append((porP.pop(0)+j+1)/(a+len(self.catP)))          \r\n",
        "        porP.append(j)\r\n",
        "   \r\n",
        "    porP=[]\r\n",
        "    #Se multiplica la probabilidad de ser no Spam\r\n",
        "    for i in self.catN:\r\n",
        "      for j in X[i]:\r\n",
        "        if len(porP) == len(X[i]): \r\n",
        "          self.catPn.append((porP.pop(0)+j+1)/(b+len(self.catN)))          \r\n",
        "        porP.append(j)\r\n",
        "\r\n",
        "    \r\n",
        "  #funcion que predicira la clase  \r\n",
        "  def predict(self, X):\r\n",
        "    \"\"\"\r\n",
        "    X: matriz de dispersion\r\n",
        "    \"\"\"\r\n",
        "    #Probabilidad de que sea spam\r\n",
        "    porSpam=np.sum(self.y)\r\n",
        "    #Probabilidad que no sea spam\r\n",
        "    cporSpam=(len(self.y)-porSpam)/len(self.y)\r\n",
        "    porSpam=porSpam/len(self.y)\r\n",
        "    \r\n",
        "    a=1\r\n",
        "    b=1\r\n",
        "    #No Spam\r\n",
        "    for i,j in enumerate(X):\r\n",
        "      if j!=0:\r\n",
        "        a*=self.catPn[i]\r\n",
        "\r\n",
        "    #Spam\r\n",
        "    for i,j in enumerate(X):\r\n",
        "      if j!=0:\r\n",
        "        b*=self.catPrs[i]\r\n",
        "\r\n",
        "    a*=porSpam\r\n",
        "    b*=cporSpam\r\n",
        "\r\n",
        "    if a>b:\r\n",
        "      #Spam\r\n",
        "      return 1\r\n",
        "    else:\r\n",
        "      #No spam\r\n",
        "      return 0\r\n",
        "    \r\n",
        "\r\n",
        "  #funcion que predicira la probabilidad de la muestra\r\n",
        "  def predictProba(self, X):\r\n",
        "    \"\"\"\r\n",
        "    X: matriz de dispersion\r\n",
        "    \"\"\"\r\n",
        "    #Probabilidad de que sea spam\r\n",
        "    porSpam=np.sum(self.y)\r\n",
        "    #Probabilidad que no sea spam\r\n",
        "    cporSpam=(len(self.y)-porSpam)/len(self.y)\r\n",
        "    porSpam=porSpam/len(self.y)\r\n",
        "    \r\n",
        "    a=1\r\n",
        "    b=1\r\n",
        "    #No Spam\r\n",
        "    for i,j in enumerate(X):\r\n",
        "      if j!=0:\r\n",
        "        a*=self.catPn[i]\r\n",
        "\r\n",
        "    #Spam\r\n",
        "    for i,j in enumerate(X):\r\n",
        "      if j!=0:\r\n",
        "        b*=self.catPrs[i]\r\n",
        "\r\n",
        "    a*=porSpam\r\n",
        "    b*=cporSpam\r\n",
        "    return [(a/(a+b)),(b/(a+b))]\r\n"
      ],
      "execution_count": 557,
      "outputs": []
    },
    {
      "cell_type": "code",
      "metadata": {
        "id": "GXSiRIRIEyl7"
      },
      "source": [
        "X_train=[[1,0,1,0],[0,1,0,1],[1,1,0,1],[1,1,0,0]]\r\n",
        "y=[1,0,0,1]\r\n",
        "X_test=[1,0,1,1]"
      ],
      "execution_count": 558,
      "outputs": []
    },
    {
      "cell_type": "code",
      "metadata": {
        "id": "arqcetR3NcNg"
      },
      "source": [
        "nb=NaiveBayes()"
      ],
      "execution_count": 559,
      "outputs": []
    },
    {
      "cell_type": "code",
      "metadata": {
        "id": "9RoQEGYwNe5u"
      },
      "source": [
        "nb.fit(X_train,y)"
      ],
      "execution_count": 560,
      "outputs": []
    },
    {
      "cell_type": "code",
      "metadata": {
        "colab": {
          "base_uri": "https://localhost:8080/"
        },
        "id": "BhQcwL92jpkD",
        "outputId": "f7dda759-2c5e-4d94-a4e0-ccd67060a457"
      },
      "source": [
        "nb.predict(X_test)"
      ],
      "execution_count": 561,
      "outputs": [
        {
          "output_type": "execute_result",
          "data": {
            "text/plain": [
              "0"
            ]
          },
          "metadata": {
            "tags": []
          },
          "execution_count": 561
        }
      ]
    },
    {
      "cell_type": "code",
      "metadata": {
        "colab": {
          "base_uri": "https://localhost:8080/"
        },
        "id": "v7s-tQysq12d",
        "outputId": "18a387c7-6851-4f01-9630-85a8f84cf941"
      },
      "source": [
        "nb.predictProba(X_test)"
      ],
      "execution_count": 562,
      "outputs": [
        {
          "output_type": "execute_result",
          "data": {
            "text/plain": [
              "[0.38640429338103754, 0.6135957066189625]"
            ]
          },
          "metadata": {
            "tags": []
          },
          "execution_count": 562
        }
      ]
    }
  ]
}