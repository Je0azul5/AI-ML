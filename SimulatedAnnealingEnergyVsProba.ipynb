{
  "nbformat": 4,
  "nbformat_minor": 0,
  "metadata": {
    "kernelspec": {
      "display_name": "Python 3",
      "language": "python",
      "name": "python3"
    },
    "language_info": {
      "codemirror_mode": {
        "name": "ipython",
        "version": 3
      },
      "file_extension": ".py",
      "mimetype": "text/x-python",
      "name": "python",
      "nbconvert_exporter": "python",
      "pygments_lexer": "ipython3",
      "version": "3.8.5"
    },
    "colab": {
      "name": "SimulatedAnnealingEnergyVsProba.ipynb",
      "provenance": [],
      "include_colab_link": true
    }
  },
  "cells": [
    {
      "cell_type": "markdown",
      "metadata": {
        "id": "view-in-github",
        "colab_type": "text"
      },
      "source": [
        "<a href=\"https://colab.research.google.com/github/Je0azul5/IA-ML/blob/main/SimulatedAnnealingEnergyVsProba.ipynb\" target=\"_parent\"><img src=\"https://colab.research.google.com/assets/colab-badge.svg\" alt=\"Open In Colab\"/></a>"
      ]
    },
    {
      "cell_type": "markdown",
      "metadata": {
        "id": "UOyvW9E50ymc"
      },
      "source": [
        "Importaciones de las bibliotecas matplotlib (permite la vizualizacion de las graficas), numpy (genera areglos), numpy.random(genera numero aleatrorios)"
      ]
    },
    {
      "cell_type": "code",
      "metadata": {
        "id": "uMHmGi04Ipqu"
      },
      "source": [
        "from matplotlib import pyplot as plt\n",
        "import numpy as np\n",
        "import numpy.random as rn"
      ],
      "execution_count": 17,
      "outputs": []
    },
    {
      "cell_type": "code",
      "metadata": {
        "id": "X5VCIilw1gE6"
      },
      "source": [
        "#Se genera un arreglo de 0 a 2000 con paso de 0.1 equivalen a 20000 numeros "
      ],
      "execution_count": 18,
      "outputs": []
    },
    {
      "cell_type": "code",
      "metadata": {
        "id": "bdBNDEaxIpq-"
      },
      "source": [
        "e = np.arange(0,2000,0.1)"
      ],
      "execution_count": 19,
      "outputs": []
    },
    {
      "cell_type": "markdown",
      "metadata": {
        "id": "Qcn3E77U1ymj"
      },
      "source": [
        "Funcion de probabilidad en donde se obtiene estados de energio"
      ]
    },
    {
      "cell_type": "code",
      "metadata": {
        "id": "ibjqbxUuIprM"
      },
      "source": [
        "## Parámetros: Energía - Temperatura. \n",
        "## Probabilidad de tener un estado con energía e.\n",
        "def probabilidad(e, t):\n",
        "    return np.exp(-e/t)"
      ],
      "execution_count": 20,
      "outputs": []
    },
    {
      "cell_type": "code",
      "metadata": {
        "id": "ujKvn5tPIprY"
      },
      "source": [
        "### Realizar las gráficas (t=5,t=100,t=800, t=500)\n",
        "## Responder: Cuando es más probable que un estado tenga una energía alta."
      ],
      "execution_count": 21,
      "outputs": []
    },
    {
      "cell_type": "markdown",
      "metadata": {
        "id": "EnbfijR43uAd"
      },
      "source": [
        "La probailidad de tener mayor energia es cuando la temperatura es mas baja\n",
        "\n",
        "\n",
        "\n"
      ]
    },
    {
      "cell_type": "markdown",
      "metadata": {
        "id": "lmuLvMPC388_"
      },
      "source": [
        "Se  procede a graficar los valores correspondientes T=5"
      ]
    },
    {
      "cell_type": "code",
      "metadata": {
        "id": "mJs3_K8LIprj",
        "colab": {
          "base_uri": "https://localhost:8080/",
          "height": 279
        },
        "outputId": "40e13c35-78b5-4d2b-9971-efdfbdc33b43"
      },
      "source": [
        "plt.plot(probabilidad(e,5))\n",
        "plt.xlabel('energia')\n",
        "plt.ylabel('probabilidad')\n",
        "plt.grid()"
      ],
      "execution_count": 22,
      "outputs": [
        {
          "output_type": "display_data",
          "data": {
            "image/png": "[encoded data removed]",
            "text/plain": [
              "<Figure size 432x288 with 1 Axes>"
            ]
          },
          "metadata": {
            "tags": [],
            "needs_background": "light"
          }
        }
      ]
    },
    {
      "cell_type": "markdown",
      "metadata": {
        "id": "0mt6TTnJ4JwG"
      },
      "source": [
        "Se  procede a graficar los valores correspondientes T=100"
      ]
    },
    {
      "cell_type": "code",
      "metadata": {
        "id": "o4raj9ypLnJq",
        "colab": {
          "base_uri": "https://localhost:8080/",
          "height": 279
        },
        "outputId": "e94c50b1-d2f5-4dad-a67b-f6137e196460"
      },
      "source": [
        "plt.plot(probabilidad(e,100))\n",
        "plt.xlabel('energia')\n",
        "plt.ylabel('probabilidad')\n",
        "plt.grid()"
      ],
      "execution_count": 23,
      "outputs": [
        {
          "output_type": "display_data",
          "data": {
            "image/png": "[encoded data removed]",
            "text/plain": [
              "<Figure size 432x288 with 1 Axes>"
            ]
          },
          "metadata": {
            "tags": [],
            "needs_background": "light"
          }
        }
      ]
    },
    {
      "cell_type": "markdown",
      "metadata": {
        "id": "2VEWowBB4NnL"
      },
      "source": [
        "Se  procede a graficar los valores correspondientes T=800"
      ]
    },
    {
      "cell_type": "code",
      "metadata": {
        "id": "5H51giVhIprs",
        "colab": {
          "base_uri": "https://localhost:8080/",
          "height": 279
        },
        "outputId": "3b3b9ccf-0ff9-4f85-810a-ab9abe6742a0"
      },
      "source": [
        "plt.plot(probabilidad(e,800))\n",
        "plt.xlabel('energia')\n",
        "plt.ylabel('probabilidad')\n",
        "plt.grid()"
      ],
      "execution_count": 24,
      "outputs": [
        {
          "output_type": "display_data",
          "data": {
            "image/png": "[encoded data removed]",
            "text/plain": [
              "<Figure size 432x288 with 1 Axes>"
            ]
          },
          "metadata": {
            "tags": [],
            "needs_background": "light"
          }
        }
      ]
    },
    {
      "cell_type": "markdown",
      "metadata": {
        "id": "7yivfuNj4PkS"
      },
      "source": [
        "Se  procede a graficar los valores correspondientes T=500"
      ]
    },
    {
      "cell_type": "code",
      "metadata": {
        "id": "X-PB3yPqIpr2",
        "colab": {
          "base_uri": "https://localhost:8080/",
          "height": 279
        },
        "outputId": "7c1cda9c-1e9d-471a-94f4-6ce5d9d8770b"
      },
      "source": [
        "plt.plot(probabilidad(e,500))\n",
        "plt.xlabel('energia')\n",
        "plt.ylabel('probabilidad')\n",
        "plt.grid()"
      ],
      "execution_count": 25,
      "outputs": [
        {
          "output_type": "display_data",
          "data": {
            "image/png": "[encoded data removed]",
            "text/plain": [
              "<Figure size 432x288 with 1 Axes>"
            ]
          },
          "metadata": {
            "tags": [],
            "needs_background": "light"
          }
        }
      ]
    },
    {
      "cell_type": "markdown",
      "metadata": {
        "id": "BLFBWgvsIpsC"
      },
      "source": [
        "# Parte 2: SA\n",
        "minimizar \n",
        "$ f(x1,x2) = (x1^2 + x2^2 - 11)^2 + (x2^2 + x1 - 7)^2 $ \n",
        "\n",
        "Sujeto a $ x1 ≥ 0$ , $ x2 ≤ 5 $\n",
        "\n",
        "Estado Inicial  (2.5, 2.5)\n",
        "\n",
        "Utilizando SA"
      ]
    },
    {
      "cell_type": "markdown",
      "metadata": {
        "id": "Aqq_0Cam4iMq"
      },
      "source": [
        "Se crea una clase estado en donde tendra los dos valores x1, x2"
      ]
    },
    {
      "cell_type": "code",
      "metadata": {
        "id": "071MZLIkIpsE"
      },
      "source": [
        "class Estado:\n",
        "    x1 = 0\n",
        "    x2 = 0\n",
        "    def __init__(self, x1, x2):\n",
        "        self.x1 = x1\n",
        "        self.x2 = x2\n",
        "    def __str__(self):\n",
        "        return \"({}, {})\".format(self.x1, self.x2)\n",
        "    def __repr__(self):\n",
        "        return self.__str__()"
      ],
      "execution_count": 26,
      "outputs": []
    },
    {
      "cell_type": "markdown",
      "metadata": {
        "id": "-EHpLDD_4qSg"
      },
      "source": [
        "En las sigueintes dos funciones, se limitan los valores de x1 y x2 segun restriccion  x1 ≥ 0$ , $ x2 ≤ 5, "
      ]
    },
    {
      "cell_type": "code",
      "metadata": {
        "id": "BzgPuJ0cIpsN"
      },
      "source": [
        "#vamos a mover el nuevo x1 en pasos de delta \n",
        "#punto inicial (2.5  2.5) para general el nuevo x1, dos opciones \n",
        "#(2.4 2.5) (2.6 2.5)\n",
        "def generar_nuevo_x1(x1_actual):\n",
        "    nuevo_x1 = -1000\n",
        "    while nuevo_x1 < 0:\n",
        "        delta = 0.1 \n",
        "        if rn.random() > 0.5: #probabilidad 50 %\n",
        "            delta = -delta\n",
        "        nuevo_x1 = x1_actual + delta\n",
        "    return nuevo_x1\n",
        "\n",
        "\n",
        "def generar_nuevo_x2(x2_actual):\n",
        "    nuevo_x2 = 1000\n",
        "    while nuevo_x2 > 5:\n",
        "        delta = 0.1 \n",
        "        if rn.random() > 0.5: #probabilidad 50 %\n",
        "            delta = -delta\n",
        "        nuevo_x2 = x2_actual + delta\n",
        "    return nuevo_x2"
      ],
      "execution_count": 27,
      "outputs": []
    },
    {
      "cell_type": "markdown",
      "metadata": {
        "id": "0abMoI3P5SYU"
      },
      "source": [
        "Se genera el estado siguiente dependiendo la funcion, si el estado inicial es mayor que el nuevo estado, se tomara el nuevo estado, sino se quedara el estado actual"
      ]
    },
    {
      "cell_type": "code",
      "metadata": {
        "id": "hix_fMPpIpsW"
      },
      "source": [
        "#una vez combinados los genrerar nuevo, tendrian el estado siguiente\n",
        "#genrerar nuevo x1, generar nuevo x2, devolver\n",
        "def generar_estado_siguiente(actual):\n",
        "    nuevo_x1 = generar_nuevo_x1(actual.x1)\n",
        "    nuevo_x2 = generar_nuevo_x2(actual.x2)\n",
        "    estado = Estado(nuevo_x1, nuevo_x2)\n",
        "    if funcionCosto(actual) < funcionCosto(estado):\n",
        "      return actual   \n",
        "    return estado"
      ],
      "execution_count": 28,
      "outputs": []
    },
    {
      "cell_type": "markdown",
      "metadata": {
        "id": "4QxQJ2W3tQLn"
      },
      "source": [
        "La funcion es: \n",
        "$ f(x1,x2) = (x1^2 + x2^2 - 11)^2 + (x2^2 + x1 - 7)^2 $ \n",
        "\n"
      ]
    },
    {
      "cell_type": "code",
      "metadata": {
        "id": "D0bcvUoiIpse"
      },
      "source": [
        "#lo anterior es evaluado en una función de costo\n",
        "#evaluar a f(x1,x2), que queremos minimizar, asi sabremos el estado mejor o peor\n",
        "def funcionCosto(estado):\n",
        "  return (((estado.x1**2)+(estado.x2**2)-11)**2 +((estado.x2**2)+(estado.x1)-7)**2)\n",
        "    "
      ],
      "execution_count": 29,
      "outputs": []
    },
    {
      "cell_type": "markdown",
      "metadata": {
        "id": "jF8g8iQE7AHD"
      },
      "source": [
        "Esta funcion disminuye la temperatura por un factor "
      ]
    },
    {
      "cell_type": "code",
      "metadata": {
        "id": "flVLRiFVIpsq"
      },
      "source": [
        "def disminucion_temperatura(temp_actual, factor):\n",
        "    return factor * temp_actual"
      ],
      "execution_count": 30,
      "outputs": []
    },
    {
      "cell_type": "markdown",
      "metadata": {
        "id": "jUBNh8YQ7Lt8"
      },
      "source": [
        "En esta funcion a evaluar las funciones anteriores, conociendo la temperatura y evaluando con la funcion deltaE"
      ]
    },
    {
      "cell_type": "code",
      "metadata": {
        "id": "DzsqbTb3Ipsz"
      },
      "source": [
        "def SA_alg(temp_inicial, estado_inicial, estado_nuevo,factor ):\n",
        "    T = temp_inicial    ### por lo general es 1000, 2000\n",
        "    actual = estado_inicial\n",
        "    while T > 0.01:\n",
        "        nuevo = estado_nuevo\n",
        "        delta_e = funcionCosto(nuevo) - funcionCosto(actual)\n",
        "        if delta_e < 0:   # minimizar la función\n",
        "            actual = estado_nuevo\n",
        "        elif rn.random() < probabilidad(delta_e, T):  ## Buscar que se acepte cn cierta probabilidad el estado peor\n",
        "            ## La probabilidad va disminuir a medidad que T disminuye\n",
        "            actual = nuevo\n",
        "        T = disminucion_temperatura(T,factor)\n",
        "        print(T)"
      ],
      "execution_count": 31,
      "outputs": []
    },
    {
      "cell_type": "markdown",
      "metadata": {
        "id": "BVx9cSBC8Oml"
      },
      "source": [
        "Se introduce el estado inicial, x1=2.5,x2=2.5 y se genera un nuevo estado, y se define el factor de disminucion de temperatura en 0.7"
      ]
    },
    {
      "cell_type": "code",
      "metadata": {
        "id": "eXhrdQXXrSuw",
        "colab": {
          "base_uri": "https://localhost:8080/"
        },
        "outputId": "dfbe96d5-ed2b-4603-f783-2e4a688b4825"
      },
      "source": [
        "print(generar_nuevo_x1(2.5))\n",
        "print(generar_nuevo_x2(2.5))\n",
        "estado1=Estado(2.5,2.5)\n",
        "print(generar_estado_siguiente(estado1))\n",
        "SA_alg(1000, estado1,generar_estado_siguiente(estado1) ,0.7)"
      ],
      "execution_count": 32,
      "outputs": [
        {
          "output_type": "stream",
          "text": [
            "2.6\n",
            "2.4\n",
            "(2.5, 2.5)\n",
            "700.0\n",
            "489.99999999999994\n",
            "342.99999999999994\n",
            "240.09999999999994\n",
            "168.06999999999994\n",
            "117.64899999999994\n",
            "82.35429999999995\n",
            "57.648009999999964\n",
            "40.353606999999975\n",
            "28.24752489999998\n",
            "19.773267429999986\n",
            "13.84128720099999\n",
            "9.688901040699992\n",
            "6.782230728489994\n",
            "4.7475615099429955\n",
            "3.3232930569600967\n",
            "2.3263051398720673\n",
            "1.628413597910447\n",
            "1.1398895185373128\n",
            "0.7979226629761189\n",
            "0.5585458640832832\n",
            "0.3909821048582982\n",
            "0.27368747340080873\n",
            "0.1915812313805661\n",
            "0.13410686196639626\n",
            "0.09387480337647738\n",
            "0.06571236236353416\n",
            "0.045998653654473906\n",
            "0.03219905755813173\n",
            "0.02253934029069221\n",
            "0.015777538203484546\n",
            "0.011044276742439182\n",
            "0.007730993719707427\n"
          ],
          "name": "stdout"
        }
      ]
    }
  ]
}